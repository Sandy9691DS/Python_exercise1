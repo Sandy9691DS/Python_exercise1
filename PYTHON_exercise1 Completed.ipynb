{
  "nbformat": 4,
  "nbformat_minor": 0,
  "metadata": {
    "colab": {
      "provenance": []
    },
    "kernelspec": {
      "name": "python3",
      "display_name": "Python 3"
    },
    "language_info": {
      "name": "python"
    }
  },
  "cells": [
    {
      "cell_type": "markdown",
      "source": [
        "\n",
        "\n",
        "#> **Python Exercise ALL:**\n",
        "\n",
        "---\n",
        "\n",
        "\n",
        "\n",
        "\n"
      ],
      "metadata": {
        "id": "4VyKOq6i9W9L"
      }
    },
    {
      "cell_type": "markdown",
      "source": [
        "#String Excercise\n"
      ],
      "metadata": {
        "id": "myVVI7i1_epX"
      }
    },
    {
      "cell_type": "code",
      "source": [
        "#1. Write a Python program to count the number of characters in a string.\n",
        "s = input('Enter a string :')\n",
        "print(len(s))"
      ],
      "metadata": {
        "colab": {
          "base_uri": "https://localhost:8080/"
        },
        "id": "JX7bctPD_hg8",
        "outputId": "7d0942dc-02a9-4f6e-a781-629461a44dd4"
      },
      "execution_count": null,
      "outputs": [
        {
          "output_type": "stream",
          "name": "stdout",
          "text": [
            "Enter a string :Happy Diwali\n",
            "12\n"
          ]
        }
      ]
    },
    {
      "cell_type": "code",
      "source": [
        "#2. Write a Python program to reverse a string.\n",
        "s\n",
        "print('Reversed String is :', s[::-1])"
      ],
      "metadata": {
        "colab": {
          "base_uri": "https://localhost:8080/"
        },
        "id": "GvO-zKIH_ss3",
        "outputId": "1cc67bc7-58f3-42f2-b9f5-738a939e26d0"
      },
      "execution_count": null,
      "outputs": [
        {
          "output_type": "stream",
          "name": "stdout",
          "text": [
            "Reversed String is : ilawiD yppaH\n"
          ]
        }
      ]
    },
    {
      "cell_type": "code",
      "source": [
        "#3. Write a Python program to check if a string is a palindrome.\n",
        "s1 = ('nitin')\n",
        "if s1 == s1[::-1]:\n",
        "  print(s1,'is a palindrome string')\n",
        "else:\n",
        "  print(s1,'is not a palindrome string')"
      ],
      "metadata": {
        "colab": {
          "base_uri": "https://localhost:8080/"
        },
        "id": "Q1oTKSZo__zb",
        "outputId": "51a4286a-2e54-409a-9912-79f00cfdd2a1"
      },
      "execution_count": null,
      "outputs": [
        {
          "output_type": "stream",
          "name": "stdout",
          "text": [
            "nitin is a palindrome string\n"
          ]
        }
      ]
    },
    {
      "cell_type": "code",
      "source": [
        "#4. Write a Python program to remove all the vowels from a string.\n",
        "s2 = input('Enter a string contains the vowels:') #Vowels = aeiou\n",
        "s2 = s2.lower()\n",
        "result = ''.join(char for char in s2 if char.lower() not in 'aeiou')\n",
        "print(result)\n"
      ],
      "metadata": {
        "colab": {
          "base_uri": "https://localhost:8080/"
        },
        "id": "IUFRGIXCBNZ2",
        "outputId": "0170c168-7e57-4975-b8de-b1a60ecafbb6"
      },
      "execution_count": null,
      "outputs": [
        {
          "output_type": "stream",
          "name": "stdout",
          "text": [
            "Enter a string contains the vowels:hey\n",
            "hy\n"
          ]
        }
      ]
    },
    {
      "cell_type": "code",
      "source": [
        "#5. Write a Python program to find the first non-repeating character in a string.\n",
        "s3 = input('Enter a string to find out first non-repeating character:')\n",
        "s3 = s3.lower()\n",
        "def fnrc(s3):\n",
        "  char_count = {}\n",
        "  for char in s3:\n",
        "    char_count[char] = char_count.get(char,0) + 1 #Count occurences of characters\n",
        "  for char in s3:\n",
        "    if char_count[char] == 1: #Find first non-repeating char\n",
        "      return char\n",
        "  return none\n",
        "\n",
        "s3\n",
        "result = fnrc(s3)\n",
        "print(result)"
      ],
      "metadata": {
        "colab": {
          "base_uri": "https://localhost:8080/"
        },
        "id": "ZMnaSioAEoKQ",
        "outputId": "2c507d0a-5baa-4014-cd62-b74ba3a104d0"
      },
      "execution_count": null,
      "outputs": [
        {
          "output_type": "stream",
          "name": "stdout",
          "text": [
            "Enter a string to find out first non-repeating character:sas\n",
            "a\n"
          ]
        }
      ]
    },
    {
      "cell_type": "code",
      "source": [
        "#6. Write a Python program to capitalize the first letter of each word in a string.\n",
        "s4 = input('Enter a string:')\n",
        "s4 = s4.title()\n",
        "print(s4)"
      ],
      "metadata": {
        "colab": {
          "base_uri": "https://localhost:8080/"
        },
        "id": "4i_lAn5nHED_",
        "outputId": "b091b9bb-1cb0-46c9-8b48-900b5e8ff301"
      },
      "execution_count": null,
      "outputs": [
        {
          "output_type": "stream",
          "name": "stdout",
          "text": [
            "Enter a string:how are you \n",
            "How Are You \n"
          ]
        }
      ]
    },
    {
      "cell_type": "code",
      "source": [
        "#7. Write a Python program to check if a string is an anagram of another string.\n",
        "def are_anagram (s5,s6):\n",
        "  s5 = s5.replace(\" \",\"\").lower()\n",
        "  s6 = s6.replace(\" \",\"\").lower()\n",
        "  return sorted(s5)==sorted(s6)\n",
        "\n",
        "s5 = input('Enter a string s5:')\n",
        "s6 = input('Enter a string s6:')\n",
        "\n",
        "if are_anagram(s5,s6):\n",
        "  print(s5,s6,'are anagram')\n",
        "else:\n",
        "  print(s5,s6,'are not anagram')"
      ],
      "metadata": {
        "colab": {
          "base_uri": "https://localhost:8080/"
        },
        "id": "a8QyNxsvRaY0",
        "outputId": "440495e1-3866-44a8-bd18-b3af8dc817d1"
      },
      "execution_count": null,
      "outputs": [
        {
          "output_type": "stream",
          "name": "stdout",
          "text": [
            "Enter a string s5:hey\n",
            "Enter a string s6:eyh\n",
            "hey eyh are anagram\n"
          ]
        }
      ]
    },
    {
      "cell_type": "code",
      "source": [
        "#8. Write a Python program to find the most frequent character in a string.\n",
        "s7 = input('Enter a string to find out first non-repeating character:')\n",
        "s7 = s7.lower()\n",
        "def mfc(s7):\n",
        "  char_count = {}\n",
        "  for char in s7:\n",
        "    char_count[char] = char_count.get(char,0) + 1 #Count occurences of characters\n",
        "  max_char = max(char_count,key=char_count.get) #max count of character\n",
        "  return max_char\n",
        "  return none\n",
        "\n",
        "s7\n",
        "result = mfc(s7)\n",
        "print(result)"
      ],
      "metadata": {
        "colab": {
          "base_uri": "https://localhost:8080/"
        },
        "id": "vkTqWVBWSxh-",
        "outputId": "cebfa25b-3dee-4d17-f1e8-c93761445b08"
      },
      "execution_count": null,
      "outputs": [
        {
          "output_type": "stream",
          "name": "stdout",
          "text": [
            "Enter a string to find out first non-repeating character:sandeeeep\n",
            "e\n"
          ]
        }
      ]
    },
    {
      "cell_type": "code",
      "source": [
        "#9. Write a Python program to check if a string is a valid email address.\n",
        "import re\n",
        "def email_add(email):\n",
        "  pattern = r'^[a-zA-Z0-9._%+-]+@[a-zA-Z0-9.-]+\\.[a-zA-Z]{2,}$' #regular expression pattern for email\n",
        "  match = re.match(pattern,email) #use re.match() to check email matches with pattern\n",
        "  return bool(match) #if match then true otherwise false\n",
        "\n",
        "emailid = input('Enter your email address:')\n",
        "if email_add(emailid):\n",
        "  print('true')\n",
        "else:\n",
        "  print('Enter a valid email address...')"
      ],
      "metadata": {
        "id": "TfJSgzADUM1l",
        "colab": {
          "base_uri": "https://localhost:8080/"
        },
        "outputId": "18b5ec7b-1bd7-406c-95a0-20e406a99efa"
      },
      "execution_count": null,
      "outputs": [
        {
          "output_type": "stream",
          "name": "stdout",
          "text": [
            "Enter your email address:a@a.com\n",
            "true\n"
          ]
        }
      ]
    },
    {
      "cell_type": "code",
      "source": [
        "#10. Write a Python program to find the length of the longest substring without repeating characters.\n",
        "def length_of_the_longest_substring(str1):\n",
        "  char_index={} #dict to store index of each character\n",
        "  max_length = 0\n",
        "  start = 0\n",
        "\n",
        "  for end in range(len(str1)): #if char is already in substring then update start index\n",
        "    if str1[end] in char_index and char_index[str1[end]] >= start:\n",
        "      start = char_index[str1[end]] + 1\n",
        "\n",
        "    char_index[str1[end]] = end #update char index of current character\n",
        "\n",
        "    max_length = max(max_length,end - start + 1) #update max index if needed\n",
        "  return max_length\n",
        "\n",
        "in_str1 = input('Enter a string:')\n",
        "result = length_of_the_longest_substring(in_str1)\n",
        "print(f\"length of the longest substring without repeating characters is : {result}\")\n"
      ],
      "metadata": {
        "id": "si-TVHJRZnGZ",
        "colab": {
          "base_uri": "https://localhost:8080/"
        },
        "outputId": "da69208c-4f15-4e51-ae03-ffdbe4557238"
      },
      "execution_count": null,
      "outputs": [
        {
          "output_type": "stream",
          "name": "stdout",
          "text": [
            "Enter a string:hello world\n",
            "length of the longest substring without repeating characters is : 6\n"
          ]
        }
      ]
    },
    {
      "cell_type": "markdown",
      "source": [
        "#List Exercises:"
      ],
      "metadata": {
        "id": "7yOcooV5eFBp"
      }
    },
    {
      "cell_type": "code",
      "source": [
        "#1. Write a Python program to find the sum of all elements in a list.\n",
        "list1 = [1,2,3,4,10,-5]\n",
        "print(sum(list1))"
      ],
      "metadata": {
        "colab": {
          "base_uri": "https://localhost:8080/"
        },
        "id": "x7KIcu2Lc13c",
        "outputId": "f0d531b6-0d1c-45e2-d98f-8be916053295"
      },
      "execution_count": null,
      "outputs": [
        {
          "output_type": "stream",
          "name": "stdout",
          "text": [
            "15\n"
          ]
        }
      ]
    },
    {
      "cell_type": "code",
      "source": [
        "#2. Write a Python program to find the maximum and minimum elements in a list.\n",
        "list2 = [1,2,3,4,5,6,10,50,-2]\n",
        "print(list2)\n",
        "\n",
        "print('Max number in given list is:',max(list2))\n",
        "print('Min number in given list is:',min(list2))"
      ],
      "metadata": {
        "colab": {
          "base_uri": "https://localhost:8080/"
        },
        "id": "dlCnFZNAeyH_",
        "outputId": "568034c8-5074-4f01-f71b-1b255d1fe318"
      },
      "execution_count": null,
      "outputs": [
        {
          "output_type": "stream",
          "name": "stdout",
          "text": [
            "[1, 2, 3, 4, 5, 6, 10, 50, -2]\n",
            "Max number in given list is: 50\n",
            "Min number in given list is: -2\n"
          ]
        }
      ]
    },
    {
      "cell_type": "code",
      "source": [
        "#3. Write a Python program to remove duplicates from a list\n",
        "def remove_and_store_duplicates(lst):\n",
        "    unique_elements = []\n",
        "    duplicate_elements = []\n",
        "\n",
        "    for element in lst:\n",
        "        if element not in unique_elements:\n",
        "            unique_elements.append(element)\n",
        "        else:\n",
        "            duplicate_elements.append(element)\n",
        "\n",
        "    return unique_elements, duplicate_elements\n",
        "\n",
        "my_list = [1,2,3,44,33,2,1,10,44,33,22,10]\n",
        "unique_list, duplicates_list = remove_and_store_duplicates(my_list)\n",
        "\n",
        "print(f\"Original list is : {my_list}\")\n",
        "print(len(my_list))\n",
        "print(f\"List without duplicates is : {unique_list}\")\n",
        "print(len(result))\n",
        "print('No of duplicates are :', len(my_list)-len(unique_list))\n",
        "print(\"Duplicates are:\", duplicates_list)\n"
      ],
      "metadata": {
        "colab": {
          "base_uri": "https://localhost:8080/"
        },
        "id": "0_dFz3o9kvxr",
        "outputId": "e1564bd1-104c-4fed-adeb-8b06f8ac873e"
      },
      "execution_count": null,
      "outputs": [
        {
          "output_type": "stream",
          "name": "stdout",
          "text": [
            "Original list is : [1, 2, 3, 44, 33, 2, 1, 10, 44, 33, 22, 10]\n",
            "12\n",
            "List without duplicates is : [1, 2, 3, 44, 33, 10, 22]\n",
            "6\n",
            "No of duplicates are : 5\n",
            "Duplicates are: [2, 1, 44, 33, 10]\n"
          ]
        }
      ]
    },
    {
      "cell_type": "code",
      "source": [
        "#4. Write a Python program to check if a list is sorted in ascending order.\n",
        "\n",
        "def sort_asc(list1):\n",
        "\n",
        "#use all() function to check if current element is less than or equals to the next element\n",
        "  return all(list1[i] <= list1[i + 1] for i in range(len(list1) - 1))\n",
        "\n",
        "my_list = [7,8,5,4,2]\n",
        "my_list1 = [1,2,3]\n",
        "if sort_asc(my_list):\n",
        "  print('The list is sorted in ascending order..')\n",
        "else:\n",
        "  print('The list is not sorted in ascending order..')"
      ],
      "metadata": {
        "id": "FaDzDK69nVQv",
        "colab": {
          "base_uri": "https://localhost:8080/"
        },
        "outputId": "2e0dbd3f-a335-401d-d560-be1318223988"
      },
      "execution_count": null,
      "outputs": [
        {
          "output_type": "stream",
          "name": "stdout",
          "text": [
            "The list is not sorted in ascending order..\n"
          ]
        }
      ]
    },
    {
      "cell_type": "code",
      "source": [
        "#5. Write a Python program to find the second largest element in a list.\n",
        "\n",
        "def sec_large(list1):\n",
        "  if len(list1) < 2: #should have atleast 2 elements in list\n",
        "    return \"List should have at least two elements..\"\n",
        "\n",
        "  first_max = max(my_list[0],my_list[1])\n",
        "  second_max = min(my_list[0],my_list[1])\n",
        "\n",
        "  for num in my_list[2:]:\n",
        "    if num > first_max:\n",
        "      second_max = first_max\n",
        "      first_max = num\n",
        "    elif num > second_max and num != first_max:\n",
        "      second_max = num\n",
        "  return second_max\n",
        "\n",
        "my_list = [1,2,34,3,56,12,23,50]\n",
        "result = sec_large(my_list)\n",
        "print(f\"The second largest element in the list is: {result}\")"
      ],
      "metadata": {
        "colab": {
          "base_uri": "https://localhost:8080/"
        },
        "id": "lLIfPnT-FHUl",
        "outputId": "6c1a03b3-c808-4539-9a27-0a664aabf68c"
      },
      "execution_count": null,
      "outputs": [
        {
          "output_type": "stream",
          "name": "stdout",
          "text": [
            "The second largest element in the list is: 50\n"
          ]
        }
      ]
    },
    {
      "cell_type": "code",
      "source": [
        "#6. Write a Python program to sort a list of strings in alphabetical order.\n",
        "\n",
        "def sort_str_alpha(mylst):\n",
        "  sorted_list = sorted(mylst)\n",
        "  return sorted_list\n",
        "\n",
        "mystr = ['Akash','Banana','Cat','Hat','Pink','Diesel']\n",
        "result = sort_str_alpha(mystr)\n",
        "\n",
        "print(\"Original List:\", mystr)\n",
        "print(\"Sorted List:\", result)"
      ],
      "metadata": {
        "colab": {
          "base_uri": "https://localhost:8080/"
        },
        "id": "WrMPpCJJHGV0",
        "outputId": "6f3091bc-4dbc-4cd1-92b7-02f4b4385413"
      },
      "execution_count": null,
      "outputs": [
        {
          "output_type": "stream",
          "name": "stdout",
          "text": [
            "Original List: ['Akash', 'Banana', 'Cat', 'Hat', 'Pink', 'Diesel']\n",
            "Sorted List: ['Akash', 'Banana', 'Cat', 'Diesel', 'Hat', 'Pink']\n"
          ]
        }
      ]
    },
    {
      "cell_type": "code",
      "source": [
        "#7. Write a Python program to find the common elements between two lists.\n",
        "\n",
        "def common_element(list1,list2):\n",
        "  common_element1 = set(list1).intersection(list2)\n",
        "  return common_element1\n",
        "\n",
        "list_a = [1,2,3,4]\n",
        "list_b = [4,5,6,7]\n",
        "\n",
        "result = common_element(list_a,list_b)\n",
        "print(f\"Common elements using set intersection: {result}\")"
      ],
      "metadata": {
        "colab": {
          "base_uri": "https://localhost:8080/"
        },
        "id": "hnoEtMWXJuGE",
        "outputId": "875c4218-9405-4c39-c999-665dd2dfedbf"
      },
      "execution_count": null,
      "outputs": [
        {
          "output_type": "stream",
          "name": "stdout",
          "text": [
            "Common elements using set intersection: {4}\n"
          ]
        }
      ]
    },
    {
      "cell_type": "code",
      "source": [
        "#8. Write a Python program to remove the nth occurrence of an element from a list.\n",
        "def remove_ocr(list1, element , n):\n",
        "  count = 0\n",
        "  i = 0\n",
        "\n",
        "  while i < len(list1):\n",
        "    if list1[i] == element:\n",
        "      count += 1\n",
        "      if count == n:\n",
        "        del list1[i]\n",
        "        break\n",
        "    else:\n",
        "      i += 1\n",
        "  return list1\n",
        "\n",
        "\n",
        "mylist1 = [1,2,3,1,2,3,2,4]\n",
        "remove_element = 2\n",
        "remove_occurance = 2\n",
        "\n",
        "result = remove_ocr(mylist1,remove_element,remove_occurance)\n",
        "\n",
        "print(f\"Original List: {mylist1}\")\n",
        "print(len(mylist1))\n",
        "print(f\"List after removing the {remove_occurance} occurrence of {remove_element}: {result}\")\n",
        "print(len(mylist1))\n",
        "\n",
        "\n"
      ],
      "metadata": {
        "id": "uqFP0LbPKvhk",
        "colab": {
          "base_uri": "https://localhost:8080/"
        },
        "outputId": "46a875a2-f55e-48a4-b7c0-4519be749153"
      },
      "execution_count": null,
      "outputs": [
        {
          "output_type": "stream",
          "name": "stdout",
          "text": [
            "Original List: [1, 3, 1, 2, 3, 2, 4]\n",
            "7\n",
            "List after removing the 2 occurrence of 2: [1, 3, 1, 2, 3, 2, 4]\n",
            "7\n"
          ]
        }
      ]
    },
    {
      "cell_type": "code",
      "source": [
        "#9. Write a Python program to find the difference between two lists.\n",
        "\n",
        "def find_list_diff(list1,list2):\n",
        "  #Using Set\n",
        "  set1 = set(list1) - set(list2)\n",
        "  set2 = set(list2) - set(list1)\n",
        "  return set1,set2\n",
        "\n",
        "list_a = [1,2,3,4,5]\n",
        "list_b = [4,5,6,7,8]\n",
        "\n",
        "set1,set2 = find_list_diff(list_a,list_b)\n",
        "\n",
        "print(f\"find difference using set difference(List1-list2):{set1}\")\n",
        "print(f\"find difference using set difference(List2-list1):{set2}\")"
      ],
      "metadata": {
        "colab": {
          "base_uri": "https://localhost:8080/"
        },
        "id": "3yGoJSEgKuYv",
        "outputId": "0765131f-8541-49f4-80c3-f27d2e03340a"
      },
      "execution_count": null,
      "outputs": [
        {
          "output_type": "stream",
          "name": "stdout",
          "text": [
            "find difference using set difference(List1-list2):{1, 2, 3}\n",
            "find difference using set difference(List2-list1):{8, 6, 7}\n"
          ]
        }
      ]
    },
    {
      "cell_type": "code",
      "source": [
        "#10. Write a Python program to remove the elements of a list that are divisible by 3.\n",
        "\n",
        "def element_not_div3(list1):\n",
        "  outputlist = [element for element in list1 if element % 3 != 0]\n",
        "  return outputlist\n",
        "\n",
        "def element_div3(list2):\n",
        "  outputlist1 = [element for element in list2 if element % 3 == 0]\n",
        "  return outputlist1\n",
        "\n",
        "list3 = list(range(31))\n",
        "list4 = list(range(31))\n",
        "\n",
        "result1 = element_not_div3(list3)\n",
        "result2 = element_div3(list4)\n",
        "\n",
        "print(f\"Original list : {list3}\\n\")\n",
        "print(f\"Element divisible by 3 : {result2}\\n\")\n",
        "print(f\"list after Removing element divisible by 3 : {result1}\\n\")\n",
        "\n"
      ],
      "metadata": {
        "colab": {
          "base_uri": "https://localhost:8080/"
        },
        "id": "6Ie0vyo4MZZT",
        "outputId": "0320f0c4-34c7-4649-e5ab-8b1de02a5905"
      },
      "execution_count": null,
      "outputs": [
        {
          "output_type": "stream",
          "name": "stdout",
          "text": [
            "Original list : [0, 1, 2, 3, 4, 5, 6, 7, 8, 9, 10, 11, 12, 13, 14, 15, 16, 17, 18, 19, 20, 21, 22, 23, 24, 25, 26, 27, 28, 29, 30]\n",
            "\n",
            "Element divisible by 3 : [0, 3, 6, 9, 12, 15, 18, 21, 24, 27, 30]\n",
            "\n",
            "list after Removing element divisible by 3 : [1, 2, 4, 5, 7, 8, 10, 11, 13, 14, 16, 17, 19, 20, 22, 23, 25, 26, 28, 29]\n",
            "\n"
          ]
        }
      ]
    },
    {
      "cell_type": "markdown",
      "source": [
        "#Tuple Exercises:"
      ],
      "metadata": {
        "id": "OKy1FS_PUX3H"
      }
    },
    {
      "cell_type": "code",
      "source": [
        "#1. Write a Python program to find the length of a tuple.\n",
        "\n",
        "tuple1 = (1, 2, 3, 'a', 'b', 'c')\n",
        "print(tuple1)\n",
        "print(len(tuple1))"
      ],
      "metadata": {
        "colab": {
          "base_uri": "https://localhost:8080/"
        },
        "id": "9rsoqjyGOBNp",
        "outputId": "2494b144-eb00-42ba-c81d-e385287a3f50"
      },
      "execution_count": null,
      "outputs": [
        {
          "output_type": "stream",
          "name": "stdout",
          "text": [
            "(1, 2, 3, 'a', 'b', 'c')\n",
            "6\n"
          ]
        }
      ]
    },
    {
      "cell_type": "code",
      "source": [
        "#2. Write a Python program to concatenate two tuples.\n",
        "\n",
        "def con_two_tuples(t1,t2):\n",
        "  result = t1 + t2\n",
        "  return result\n",
        "\n",
        "tuple1 = (1,2,3,4)\n",
        "tuple2 = ('A','B','a','b')\n",
        "\n",
        "concatenated_ouput = con_two_tuples(tuple1,tuple2)\n",
        "\n",
        "print(f\"Tuple 1: {tuple1}\")\n",
        "print(f\"Tuple 2: {tuple2}\")\n",
        "print(f\"Concatenated Tuple: {concatenated_ouput}\")"
      ],
      "metadata": {
        "colab": {
          "base_uri": "https://localhost:8080/"
        },
        "id": "-sJA3_5fUlvL",
        "outputId": "6b5a281b-bbbf-4110-a886-4dbb963de429"
      },
      "execution_count": null,
      "outputs": [
        {
          "output_type": "stream",
          "name": "stdout",
          "text": [
            "Tuple 1: (1, 2, 3, 4)\n",
            "Tuple 2: ('A', 'B', 'a', 'b')\n",
            "Concatenated Tuple: (1, 2, 3, 4, 'A', 'B', 'a', 'b')\n"
          ]
        }
      ]
    },
    {
      "cell_type": "code",
      "source": [
        "#3. Write a Python program to convert a tuple to a list.\n",
        "\n",
        "my_tuple1 = (1, 2, 3, 4, 'A', 'B', 'a', 'b')\n",
        "print(type(my_tuple1))\n",
        "print(f\"{my_tuple1}\\n\")\n",
        "\n",
        "conversion_to_list = list(my_tuple1)\n",
        "print(conversion_to_list)\n",
        "print(type(conversion_to_list))\n",
        "\n"
      ],
      "metadata": {
        "colab": {
          "base_uri": "https://localhost:8080/"
        },
        "id": "a4Ldg4N4UtR3",
        "outputId": "de4fb097-be6a-4666-fe56-4326fb915973"
      },
      "execution_count": null,
      "outputs": [
        {
          "output_type": "stream",
          "name": "stdout",
          "text": [
            "<class 'tuple'>\n",
            "(1, 2, 3, 4, 'A', 'B', 'a', 'b')\n",
            "\n",
            "[1, 2, 3, 4, 'A', 'B', 'a', 'b']\n",
            "<class 'list'>\n"
          ]
        }
      ]
    },
    {
      "cell_type": "code",
      "source": [
        "#4. Write a Python program to find the index of an element in a tuple.\n",
        "\n",
        "def find_index(mytuple,element):\n",
        "  try:\n",
        "    index = mytuple.index(element)\n",
        "    return index\n",
        "  except ValueError:\n",
        "    return f\"{element} not found in given tuple\"\n",
        "\n",
        "tuple2 = (1,2,3,'A','B','C')\n",
        "element = 'B'\n",
        "result = find_index(tuple2,element)\n",
        "\n",
        "print(f\"Original Tuple :{tuple2}\")\n",
        "print(len(tuple2))\n",
        "print(f\"Index of {element} is :{result}\")"
      ],
      "metadata": {
        "colab": {
          "base_uri": "https://localhost:8080/"
        },
        "id": "m8DB3dIVVghJ",
        "outputId": "00fe8379-f608-4e08-e1e8-1fa94d862548"
      },
      "execution_count": null,
      "outputs": [
        {
          "output_type": "stream",
          "name": "stdout",
          "text": [
            "Original Tuple :(1, 2, 3, 'A', 'B', 'C')\n",
            "6\n",
            "Index of B is :4\n"
          ]
        }
      ]
    },
    {
      "cell_type": "code",
      "source": [
        "#5. Write a Python program to check if an element exists in a tuple.\n",
        "\n",
        "def ele_exist(tuple1,element):\n",
        "  return element in tuple1 #Gives bool output\n",
        "\n",
        "mytuple3 = (1,2,3,4,'A','B','C')\n",
        "find_element = 10\n",
        "\n",
        "result = ele_exist(mytuple3,find_element)\n",
        "\n",
        "print(f\"Given tuple is : {mytuple3}\")\n",
        "print(f\"Does {find_element} is present in given tuple , Answer is : {result}\")"
      ],
      "metadata": {
        "id": "87jgTCA_XWNz",
        "colab": {
          "base_uri": "https://localhost:8080/"
        },
        "outputId": "79a9e9eb-b78f-42dd-b52d-c6abd053e395"
      },
      "execution_count": null,
      "outputs": [
        {
          "output_type": "stream",
          "name": "stdout",
          "text": [
            "Given tuple is : (1, 2, 3, 4, 'A', 'B', 'C')\n",
            "Does 10 is present in given tuple , Answer is : False\n"
          ]
        }
      ]
    },
    {
      "cell_type": "code",
      "source": [
        "#6. Write a Python program to count the number of occurrences of an element in a tuple.\n",
        "\n",
        "def occur_ele(mytuple,element):\n",
        "  occurance = mytuple.count(element)\n",
        "  return occurance\n",
        "\n",
        "mytuple4 = (1,2,3,4,5,'A','B','X','Y','Z',2,3,2)\n",
        "find1 = 2\n",
        "result = occur_ele(mytuple4,find1)\n",
        "\n",
        "print(f\"Given tuple is : {mytuple4}\")\n",
        "print(f\"No. of occurances of {find1} is : {result}\")\n",
        "\n"
      ],
      "metadata": {
        "colab": {
          "base_uri": "https://localhost:8080/"
        },
        "id": "1EKq6jBqpoAv",
        "outputId": "ef69af80-8a83-405c-c290-d696d51513e9"
      },
      "execution_count": null,
      "outputs": [
        {
          "output_type": "stream",
          "name": "stdout",
          "text": [
            "Given tuple is : (1, 2, 3, 4, 5, 'A', 'B', 'X', 'Y', 'Z', 2, 3, 2)\n",
            "No. of occurances of 2 is : 3\n"
          ]
        }
      ]
    },
    {
      "cell_type": "code",
      "source": [
        "#7. Write a Python program to find the maximum and minimum elements in a tuple.\n",
        "\n",
        "mytuple4 = (1,2,3,4,5,10,23,32,11,-2)\n",
        "print(mytuple4)\n",
        "\n",
        "print('Maximum element is :',max(mytuple4))\n",
        "print('Minimum element is :',min(mytuple4))\n"
      ],
      "metadata": {
        "colab": {
          "base_uri": "https://localhost:8080/"
        },
        "id": "dqF3Je0TteKo",
        "outputId": "a4fbb805-54bb-47dc-c57d-30c2a5d701d5"
      },
      "execution_count": null,
      "outputs": [
        {
          "output_type": "stream",
          "name": "stdout",
          "text": [
            "(1, 2, 3, 4, 5, 10, 23, 32, 11, -2)\n",
            "Maximum element is : 32\n",
            "Minimum element is : -2\n"
          ]
        }
      ]
    },
    {
      "cell_type": "code",
      "source": [
        "#8. Write a Python program to reverse a tuple.\n",
        "\n",
        "def reverse_tuple(mytuple):\n",
        "  rev = mytuple[::-1]\n",
        "  return rev\n",
        "\n",
        "mytuple4 = (1,2,3,4,5,10,23,32,11,-2,'A','B','C')\n",
        "\n",
        "result = reverse_tuple(mytuple4)\n",
        "print(f\"Original Tuple : {mytuple4}\")\n",
        "print(f\"Reversed Tuple : {result}\")"
      ],
      "metadata": {
        "colab": {
          "base_uri": "https://localhost:8080/"
        },
        "id": "PGnagfYPtvCk",
        "outputId": "2f7058f4-4b6f-4445-fa22-e102c8203d39"
      },
      "execution_count": null,
      "outputs": [
        {
          "output_type": "stream",
          "name": "stdout",
          "text": [
            "Original Tuple : (1, 2, 3, 4, 5, 10, 23, 32, 11, -2, 'A', 'B', 'C')\n",
            "Reversed Tuple : ('C', 'B', 'A', -2, 11, 32, 23, 10, 5, 4, 3, 2, 1)\n"
          ]
        }
      ]
    },
    {
      "cell_type": "code",
      "source": [
        "#9. Write a Python program to check if all elements in a tuple are the same.\n",
        "\n",
        "def same_element(mytuple):\n",
        "  return all(element == mytuple[0] for element in mytuple)\n",
        "\n",
        "t1 = (1,1,1,1,1)\n",
        "t2 = (2,2,1,1,2)\n",
        "\n",
        "result1 = same_element(t1)\n",
        "result2 = same_element(t2)\n",
        "\n",
        "print(f\"first tuple : {t1}\")\n",
        "print(f\"does all elements are same in {t1} : {result1}\\n\")\n",
        "print(f\"second tuple : {t2}\")\n",
        "print(f\"does all elements are same in {t2} : {result2}\")"
      ],
      "metadata": {
        "colab": {
          "base_uri": "https://localhost:8080/"
        },
        "id": "HHWqvxWMvyaT",
        "outputId": "4b80e0bc-6ca3-4130-d3b3-1576a881c5dc"
      },
      "execution_count": null,
      "outputs": [
        {
          "output_type": "stream",
          "name": "stdout",
          "text": [
            "first tuple : (1, 1, 1, 1, 1)\n",
            "does all elements are same in (1, 1, 1, 1, 1) : True\n",
            "\n",
            "second tuple : (2, 2, 1, 1, 2)\n",
            "does all elements are same in (2, 2, 1, 1, 2) : False\n"
          ]
        }
      ]
    },
    {
      "cell_type": "code",
      "source": [
        "#10. Write a Python program to create a new tuple with the elements from two existing tuples.\n",
        "\n",
        "def new_tuple(t1,t2):\n",
        "  t3 = t1 + t2\n",
        "  return t3\n",
        "\n",
        "tuple1 = (1,2,3,4)\n",
        "tuple2 = ('a','b','c','d')\n",
        "result = new_tuple(tuple1,tuple2)\n",
        "\n",
        "print(f\"First tuple : {tuple1}\")\n",
        "print(f\"Second tuple : {tuple2}\")\n",
        "print(f\"New tuple : {result}\")"
      ],
      "metadata": {
        "colab": {
          "base_uri": "https://localhost:8080/"
        },
        "id": "HcMziMO3x8zd",
        "outputId": "1a9ddc53-41cc-42d3-9462-42c54cd2fd3d"
      },
      "execution_count": null,
      "outputs": [
        {
          "output_type": "stream",
          "name": "stdout",
          "text": [
            "First tuple : (1, 2, 3, 4)\n",
            "Second tuple : ('a', 'b', 'c', 'd')\n",
            "New tuple : (1, 2, 3, 4, 'a', 'b', 'c', 'd')\n"
          ]
        }
      ]
    },
    {
      "cell_type": "markdown",
      "source": [
        "#Set Exercises:"
      ],
      "metadata": {
        "id": "27vY8mT7dqEs"
      }
    },
    {
      "cell_type": "code",
      "source": [
        "#1. Write a Python program to find the union of two sets.\n",
        "\n",
        "set1 = {1,2,3,4}\n",
        "set2 = {4,5,6,7}\n",
        "\n",
        "result = set1.union(set2)\n",
        "print(result)"
      ],
      "metadata": {
        "id": "kfSDkhbLzUHW",
        "colab": {
          "base_uri": "https://localhost:8080/"
        },
        "outputId": "10e5b95b-6a17-4cb0-81f3-396d7f690c77"
      },
      "execution_count": null,
      "outputs": [
        {
          "output_type": "stream",
          "name": "stdout",
          "text": [
            "{1, 2, 3, 4, 5, 6, 7}\n"
          ]
        }
      ]
    },
    {
      "cell_type": "code",
      "source": [
        "#2. Write a Python program to find the intersection of two sets.\n",
        "\n",
        "set1 = {1,2,3,4}\n",
        "set2 = {4,5,6,7}\n",
        "\n",
        "result = set1.intersection(set2)\n",
        "print(result)"
      ],
      "metadata": {
        "colab": {
          "base_uri": "https://localhost:8080/"
        },
        "id": "7O2PKEjQdyyc",
        "outputId": "b8d209ee-de2a-41f4-f808-ccffcf80a551"
      },
      "execution_count": null,
      "outputs": [
        {
          "output_type": "stream",
          "name": "stdout",
          "text": [
            "{4}\n"
          ]
        }
      ]
    },
    {
      "cell_type": "code",
      "source": [
        "#3. Write a Python program to check if a set is a subset of another set.\n",
        "\n",
        "set1 = {1,2,3}\n",
        "set2 = {1,2,3,4,5}\n",
        "\n",
        "result = set1.issubset(set2)\n",
        "print(f\"{set1} is a subset of {set2} :{result}\\n\")\n",
        "\n",
        "result2 = set2.issubset(set1)\n",
        "print(f\"{set2} is a subset of {set1} :{result2}\")"
      ],
      "metadata": {
        "colab": {
          "base_uri": "https://localhost:8080/"
        },
        "id": "YjzQeD3ufJA9",
        "outputId": "f6d8ed06-ecd2-4d0c-9fae-04b40ec255ed"
      },
      "execution_count": null,
      "outputs": [
        {
          "output_type": "stream",
          "name": "stdout",
          "text": [
            "{1, 2, 3} is a subset of {1, 2, 3, 4, 5} :True\n",
            "\n",
            "{1, 2, 3, 4, 5} is a subset of {1, 2, 3} :False\n"
          ]
        }
      ]
    },
    {
      "cell_type": "code",
      "source": [
        "#4. Write a Python program to remove duplicate elements from a set.\n",
        "\n",
        "def rem_dp(list1):\n",
        "  Uset = set(list1)\n",
        "  return Uset\n",
        "\n",
        "\n",
        "list3 = [1,1,2,2,3,3,4,4]\n",
        "result = rem_dp(list3)\n",
        "print(result)"
      ],
      "metadata": {
        "colab": {
          "base_uri": "https://localhost:8080/"
        },
        "id": "XTvB1WAAfmp0",
        "outputId": "6074f32e-7a32-4722-91a1-341a118d30c8"
      },
      "execution_count": null,
      "outputs": [
        {
          "output_type": "stream",
          "name": "stdout",
          "text": [
            "{1, 2, 3, 4}\n"
          ]
        }
      ]
    },
    {
      "cell_type": "code",
      "source": [
        "#5. Write a Python program to add an element to a set.\n",
        "\n",
        "def add_ele(set1,element):\n",
        "  set1.add(element)\n",
        "  return set1\n",
        "\n",
        "set5 = {1,2,3}\n",
        "element = 5\n",
        "\n",
        "result = add_ele(set5,5)\n",
        "print(result)"
      ],
      "metadata": {
        "colab": {
          "base_uri": "https://localhost:8080/"
        },
        "id": "Aba-jxCpgVwJ",
        "outputId": "50c0c2a8-bf6b-4e18-8172-cb5d1907a599"
      },
      "execution_count": null,
      "outputs": [
        {
          "output_type": "stream",
          "name": "stdout",
          "text": [
            "{1, 2, 3, 5}\n"
          ]
        }
      ]
    },
    {
      "cell_type": "code",
      "source": [
        "#6. Write a Python program to remove an element from a set.\n",
        "\n",
        "def remove_ele(set1,element):\n",
        "  set1.remove(element)\n",
        "  return set1\n",
        "\n",
        "set4 = {1,2,3,4}\n",
        "remove = 4\n",
        "\n",
        "result = remove_ele(set4,4)\n",
        "print(result)"
      ],
      "metadata": {
        "colab": {
          "base_uri": "https://localhost:8080/"
        },
        "id": "v2X5TpHchaZF",
        "outputId": "65fdc925-818d-4c8a-e7cf-1e2e893c1156"
      },
      "execution_count": null,
      "outputs": [
        {
          "output_type": "stream",
          "name": "stdout",
          "text": [
            "{1, 2, 3}\n"
          ]
        }
      ]
    },
    {
      "cell_type": "code",
      "source": [
        "#7. Write a Python program to find the difference between two sets.\n",
        "\n",
        "set1 = {1,2,3,4,5}\n",
        "set2 = {3,4,5,6,7}\n",
        "\n",
        "result = set1.difference(set2)\n",
        "result2 = set1 - set2\n",
        "\n",
        "print(result)\n",
        "print(result2)"
      ],
      "metadata": {
        "colab": {
          "base_uri": "https://localhost:8080/"
        },
        "id": "aUKWKV09iJvi",
        "outputId": "361b9d1e-64b0-4f6b-e265-eda00f4a4035"
      },
      "execution_count": null,
      "outputs": [
        {
          "output_type": "stream",
          "name": "stdout",
          "text": [
            "{1, 2}\n",
            "{1, 2}\n"
          ]
        }
      ]
    },
    {
      "cell_type": "code",
      "source": [
        "#8. Write a Python program to check if two sets are disjoint.\n",
        "\n",
        "set1 = {4,5,8,10}\n",
        "set2 = {1,2,3}\n",
        "\n",
        "result = set2.isdisjoint(set1) #no element in commom hence true\n",
        "print(result)"
      ],
      "metadata": {
        "colab": {
          "base_uri": "https://localhost:8080/"
        },
        "id": "khiTHH6XihQ2",
        "outputId": "5f26c862-bc67-4bb4-fa9c-56b2396015c3"
      },
      "execution_count": null,
      "outputs": [
        {
          "output_type": "stream",
          "name": "stdout",
          "text": [
            "True\n"
          ]
        }
      ]
    },
    {
      "cell_type": "code",
      "source": [
        "#9. Write a Python program to find the symmetric difference between two sets.\n",
        "\n",
        "set1 = {1,2,3,4,5}\n",
        "set2 = {3,4,5,6,7}\n",
        "\n",
        "result = set1.symmetric_difference(set2) #3,4,5 common elements gets removed\n",
        "print(result)"
      ],
      "metadata": {
        "colab": {
          "base_uri": "https://localhost:8080/"
        },
        "id": "8ZtBfmzRiw1F",
        "outputId": "8e703516-f37b-4486-f9f7-cb8b99762819"
      },
      "execution_count": null,
      "outputs": [
        {
          "output_type": "stream",
          "name": "stdout",
          "text": [
            "{1, 2, 6, 7}\n"
          ]
        }
      ]
    },
    {
      "cell_type": "code",
      "source": [
        "#10. Write a Python program to check if a set is empty.\n",
        "\n",
        "set1 = {1,2,3}\n",
        "print(\"Lenght of given set is :\",len(set1))\n",
        "\n",
        "if len(set1) == 0:\n",
        "  print(f\"{set1} is empty\")\n",
        "else:\n",
        "  print(f\"Given {set1} is not empty\")"
      ],
      "metadata": {
        "colab": {
          "base_uri": "https://localhost:8080/"
        },
        "id": "gn7Dshutjrwi",
        "outputId": "a6e4f3b9-3196-4a4b-bea3-a484e039db50"
      },
      "execution_count": null,
      "outputs": [
        {
          "output_type": "stream",
          "name": "stdout",
          "text": [
            "Lenght of given set is : 3\n",
            "Given {1, 2, 3} is not empty\n"
          ]
        }
      ]
    },
    {
      "cell_type": "markdown",
      "source": [
        "#Dictionary Exercises:\n"
      ],
      "metadata": {
        "id": "qwR5LMGS4RVa"
      }
    },
    {
      "cell_type": "code",
      "source": [
        "#1. Write a Python program to iterate over a dictionary and print its keys and values.\n",
        "\n",
        "def key_value(dict1):\n",
        "  for key,value in dict1.items():\n",
        "    print(f\"key:{key},value:{value}\")\n",
        "\n",
        "my_dict1 = {1:'a',2:'b',3:'c'}\n",
        "\n",
        "print(my_dict1)\n",
        "key_value(my_dict1)\n"
      ],
      "metadata": {
        "id": "KBFXv4DJkM8M",
        "colab": {
          "base_uri": "https://localhost:8080/"
        },
        "outputId": "59ed278d-7cb0-44e2-b1f2-1bb43e96241a"
      },
      "execution_count": null,
      "outputs": [
        {
          "output_type": "stream",
          "name": "stdout",
          "text": [
            "{1: 'a', 2: 'b', 3: 'c'}\n",
            "key:1,value:a\n",
            "key:2,value:b\n",
            "key:3,value:c\n"
          ]
        }
      ]
    },
    {
      "cell_type": "code",
      "source": [
        "#2. Write a Python program to check if a key exists in a dictionary.\n",
        "def key_ex(dict1,key):\n",
        "  return key in dict1\n",
        "\n",
        "mydict = {1:'a',2:'b',3:'c'}\n",
        "key = 2\n",
        "\n",
        "result = key_ex(mydict,key)\n",
        "print(result)"
      ],
      "metadata": {
        "colab": {
          "base_uri": "https://localhost:8080/"
        },
        "id": "amc3jNMs4ofF",
        "outputId": "bcccf9d6-7da6-4113-e76c-7cfa73d86b32"
      },
      "execution_count": null,
      "outputs": [
        {
          "output_type": "stream",
          "name": "stdout",
          "text": [
            "True\n"
          ]
        }
      ]
    },
    {
      "cell_type": "code",
      "source": [
        "#3. Write a Python program to get the value associated with a key in a dictionary.\n",
        "\n",
        "mydict = {1:'a',2:'b',3:'c'}\n",
        "result = mydict.get(2) #Provide key to access its value\n",
        "print(result)"
      ],
      "metadata": {
        "colab": {
          "base_uri": "https://localhost:8080/"
        },
        "id": "5YPYrFnw6CtI",
        "outputId": "9eaca355-90fa-4b2e-cba7-0f8b4c6d3364"
      },
      "execution_count": null,
      "outputs": [
        {
          "output_type": "stream",
          "name": "stdout",
          "text": [
            "b\n"
          ]
        }
      ]
    },
    {
      "cell_type": "code",
      "source": [
        "#4. Write a Python program to remove a key from a dictionary.\n",
        "\n",
        "mydict = {1:'a',2:'b',3:'c'}\n",
        "result = mydict.pop(2)\n",
        "print(\"removed key:\",result)\n",
        "print(f\"Dictionary after removing {result} : {mydict}\")"
      ],
      "metadata": {
        "colab": {
          "base_uri": "https://localhost:8080/"
        },
        "id": "a9FdSdRo6btj",
        "outputId": "877d2b29-40f8-43b1-80e8-3f03013d0001"
      },
      "execution_count": null,
      "outputs": [
        {
          "output_type": "stream",
          "name": "stdout",
          "text": [
            "removed key: b\n",
            "Dictionary after removing b : {1: 'a', 3: 'c'}\n"
          ]
        }
      ]
    },
    {
      "cell_type": "code",
      "source": [
        "#5. Write a Python program to sort a dictionary by its values.\n",
        "\n",
        "def sort_dict(mydict1):\n",
        "  sorted_dict1 = dict(sorted(mydict1.items(), key = lambda item:item[1]))\n",
        "  return sorted_dict1\n",
        "\n",
        "mydict = {1:'c',2:'b',3:'a'}\n",
        "result = sort_dict(mydict)\n",
        "\n",
        "print(f\"Original Dict: {mydict}\")\n",
        "print(f\"Sorted Dict by Values : {result}\")"
      ],
      "metadata": {
        "colab": {
          "base_uri": "https://localhost:8080/"
        },
        "id": "8c5p8JnZ7AYe",
        "outputId": "9324850b-6206-47c3-917b-7250bd4f7534"
      },
      "execution_count": null,
      "outputs": [
        {
          "output_type": "stream",
          "name": "stdout",
          "text": [
            "Original Dict: {1: 'c', 2: 'b', 3: 'a'}\n",
            "Sorted Dict by Values : {3: 'a', 2: 'b', 1: 'c'}\n"
          ]
        }
      ]
    },
    {
      "cell_type": "code",
      "source": [
        "#6. Write a Python program to merge two dictionaries.\n",
        "\n",
        "def merge1(dict1,dict2):\n",
        "  merged_dict = dict1.copy()\n",
        "  merged_dict.update(dict2)\n",
        "  return merged_dict\n",
        "\n",
        "\n",
        "dict3 = {1:'c',2:'b',3:'a'}\n",
        "dict4 = {4:'d',5:'e',6:'f'}\n",
        "\n",
        "result = merge1(dict3,dict4)\n",
        "print(f\"Merged Dict : {result}\")"
      ],
      "metadata": {
        "colab": {
          "base_uri": "https://localhost:8080/"
        },
        "id": "Rnw-cQxS-fDO",
        "outputId": "00149bc8-1d94-4816-9ec7-420e3259204d"
      },
      "execution_count": null,
      "outputs": [
        {
          "output_type": "stream",
          "name": "stdout",
          "text": [
            "Merged Dict : {1: 'c', 2: 'b', 3: 'a', 4: 'd', 5: 'e', 6: 'f'}\n"
          ]
        }
      ]
    },
    {
      "cell_type": "code",
      "source": [
        "#7. Write a Python program to count the frequency of each element in a dictionary.\n",
        "\n",
        "def count_freq(mydict):\n",
        "  freq = {}\n",
        "\n",
        "  for key,value in mydict.items():\n",
        "    if value in freq:\n",
        "      freq[value] += 1\n",
        "    else:\n",
        "      freq[value] = 1\n",
        "  return freq\n",
        "\n",
        "mydict1 = {'a': 1, 'b': 2, 'c': 1, 'd': 2, 'e': 3}\n",
        "result = count_freq(mydict1)\n",
        "\n",
        "print(f\"Original Dict : {mydict1}\")\n",
        "print(f\"Element Frequency : {result}\")"
      ],
      "metadata": {
        "colab": {
          "base_uri": "https://localhost:8080/"
        },
        "id": "m9rLnIYL_H55",
        "outputId": "79287f4b-263a-4c39-f27d-a719f07e3682"
      },
      "execution_count": null,
      "outputs": [
        {
          "output_type": "stream",
          "name": "stdout",
          "text": [
            "Original Dict : {'a': 1, 'b': 2, 'c': 1, 'd': 2, 'e': 3}\n",
            "Element Frequency : {1: 2, 2: 2, 3: 1}\n"
          ]
        }
      ]
    },
    {
      "cell_type": "code",
      "source": [
        "#8. Write a Python program to find the length of a dictionary.\n",
        "\n",
        "mydict1 = {'a': 1, 'b': 2, 'c': 1, 'd': 2, 'e': 3}\n",
        "\n",
        "result = len(mydict1)\n",
        "print(f\"Length of Dict {mydict1} is {result}\")"
      ],
      "metadata": {
        "colab": {
          "base_uri": "https://localhost:8080/"
        },
        "id": "YXcRRTiqB06Z",
        "outputId": "d7c84531-c65f-45c8-ca0b-f38f73e96d8b"
      },
      "execution_count": null,
      "outputs": [
        {
          "output_type": "stream",
          "name": "stdout",
          "text": [
            "Length of Dict {'a': 1, 'b': 2, 'c': 1, 'd': 2, 'e': 3} is 5\n"
          ]
        }
      ]
    },
    {
      "cell_type": "code",
      "source": [
        "#9. Write a Python program to check if a dictionary is empty.\n",
        "\n",
        "mydict1 = {'a': 1, 'b': 2, 'c': 1, 'd': 2, 'e': 3}\n",
        "print(\"Lenght of given dict is :\",len(mydict1))\n",
        "\n",
        "if len(mydict1) == 0:\n",
        "  print(f\"{mydict1} is empty\")\n",
        "else:\n",
        "  print(f\"Given dict {mydict1} is not empty\")"
      ],
      "metadata": {
        "colab": {
          "base_uri": "https://localhost:8080/"
        },
        "id": "nvniKIQeDD4u",
        "outputId": "7db1d0c1-bc2e-4990-f876-28d18096fa8d"
      },
      "execution_count": null,
      "outputs": [
        {
          "output_type": "stream",
          "name": "stdout",
          "text": [
            "Lenght of given dict is : 5\n",
            "Given dict {'a': 1, 'b': 2, 'c': 1, 'd': 2, 'e': 3} is not empty\n"
          ]
        }
      ]
    },
    {
      "cell_type": "code",
      "source": [
        "#10. Write a Python program to find the keys with the maximum and minimum values in a dictionary.\n",
        "\n",
        "def find_keys_max_min_values(mydict):\n",
        "  max_key = max(mydict, key = mydict.get)\n",
        "  min_key = min(mydict, key = mydict.get)\n",
        "  return max_key,min_key\n",
        "\n",
        "mydict1 = {'a': 110, 'b': 20, 'c': 11, 'd': 32, 'e': 302}\n",
        "max_key, min_key = find_keys_max_min_values(mydict1)\n",
        "\n",
        "\n",
        "print(f\"Original Dict : {mydict1}\")\n",
        "print(f\"Max key : {max_key}\")\n",
        "print(f\"Min key : {min_key}\")"
      ],
      "metadata": {
        "colab": {
          "base_uri": "https://localhost:8080/"
        },
        "id": "nuI83Je9DmG0",
        "outputId": "458a427e-9f12-49a2-cc95-fa0fe08b3173"
      },
      "execution_count": null,
      "outputs": [
        {
          "output_type": "stream",
          "name": "stdout",
          "text": [
            "Original Dict : {'a': 110, 'b': 20, 'c': 11, 'd': 32, 'e': 302}\n",
            "Max key : e\n",
            "Min key : c\n"
          ]
        }
      ]
    },
    {
      "cell_type": "markdown",
      "source": [
        "#Range Exercises:"
      ],
      "metadata": {
        "id": "VLWHlUJZFwD0"
      }
    },
    {
      "cell_type": "code",
      "source": [
        "#1. Write a Python program to iterate over a range of numbers and print them.\n",
        "\n",
        "for i in range(0,10):\n",
        "  print(i,end=\" \")"
      ],
      "metadata": {
        "id": "m2mq2OysEk4c",
        "colab": {
          "base_uri": "https://localhost:8080/"
        },
        "outputId": "0a38b6f5-c34d-4dd5-d7d8-4ca4b4daa3ce"
      },
      "execution_count": null,
      "outputs": [
        {
          "output_type": "stream",
          "name": "stdout",
          "text": [
            "0 1 2 3 4 5 6 7 8 9 "
          ]
        }
      ]
    },
    {
      "cell_type": "code",
      "source": [
        "#2. Write a Python program to find the sum of all numbers in a range.\n",
        "\n",
        "def sum_range(start, end):\n",
        "  total_sum = 0\n",
        "\n",
        "  for number in range(start, end):\n",
        "    total_sum += number\n",
        "  return total_sum\n",
        "\n",
        "start = 1\n",
        "end = 5\n",
        "\n",
        "result = sum_range(1,5)\n",
        "print(result)"
      ],
      "metadata": {
        "colab": {
          "base_uri": "https://localhost:8080/"
        },
        "id": "pjFoumoFz2_C",
        "outputId": "688b4b3d-1439-4aa1-b758-1b722e5b42c9"
      },
      "execution_count": null,
      "outputs": [
        {
          "output_type": "stream",
          "name": "stdout",
          "text": [
            "10\n"
          ]
        }
      ]
    },
    {
      "cell_type": "code",
      "source": [
        "#3. Write a Python program to print all even numbers in a given range.\n",
        "\n",
        "for i in range(1,21):\n",
        "  if i % 2 == 0:\n",
        "    print('Even numbers in given range is :',i)"
      ],
      "metadata": {
        "colab": {
          "base_uri": "https://localhost:8080/"
        },
        "id": "87G6u55x0GZU",
        "outputId": "e628b30e-4f95-4f76-b89e-f138fb323667"
      },
      "execution_count": null,
      "outputs": [
        {
          "output_type": "stream",
          "name": "stdout",
          "text": [
            "Even numbers in given range is : 2\n",
            "Even numbers in given range is : 4\n",
            "Even numbers in given range is : 6\n",
            "Even numbers in given range is : 8\n",
            "Even numbers in given range is : 10\n",
            "Even numbers in given range is : 12\n",
            "Even numbers in given range is : 14\n",
            "Even numbers in given range is : 16\n",
            "Even numbers in given range is : 18\n",
            "Even numbers in given range is : 20\n"
          ]
        }
      ]
    },
    {
      "cell_type": "code",
      "source": [
        "#4. Write a Python program to print all odd numbers in a given range.\n",
        "\n",
        "for i in range(1,21):\n",
        "  if i % 2 != 0:\n",
        "    print('Odd numbers in given range is :',i)"
      ],
      "metadata": {
        "colab": {
          "base_uri": "https://localhost:8080/"
        },
        "id": "FIIGM-yA1jkf",
        "outputId": "f024aa6f-9dbf-4e29-b72b-96c6fafa231c"
      },
      "execution_count": null,
      "outputs": [
        {
          "output_type": "stream",
          "name": "stdout",
          "text": [
            "Odd numbers in given range is : 1\n",
            "Odd numbers in given range is : 3\n",
            "Odd numbers in given range is : 5\n",
            "Odd numbers in given range is : 7\n",
            "Odd numbers in given range is : 9\n",
            "Odd numbers in given range is : 11\n",
            "Odd numbers in given range is : 13\n",
            "Odd numbers in given range is : 15\n",
            "Odd numbers in given range is : 17\n",
            "Odd numbers in given range is : 19\n"
          ]
        }
      ]
    },
    {
      "cell_type": "code",
      "source": [
        "#5. Write a Python program to find the average of all numbers in a range.\n",
        "\n",
        "def avr(start, end):\n",
        "  total_sum = 0\n",
        "  count = 0\n",
        "\n",
        "  for i in range(start, end + 1):\n",
        "    total_sum += i\n",
        "    count += 1\n",
        "\n",
        "  if count == 0:\n",
        "    return 0\n",
        "  else:\n",
        "    return total_sum / count\n",
        "\n",
        "start = 1\n",
        "end = 5\n",
        "\n",
        "result = avr(1,5)\n",
        "print(result)"
      ],
      "metadata": {
        "colab": {
          "base_uri": "https://localhost:8080/"
        },
        "id": "TjiCaDWp2SB6",
        "outputId": "51676aa7-205c-409a-ed3d-e72ecaa16e12"
      },
      "execution_count": null,
      "outputs": [
        {
          "output_type": "stream",
          "name": "stdout",
          "text": [
            "3.0\n"
          ]
        }
      ]
    },
    {
      "cell_type": "code",
      "source": [
        "#6. Write a Python program to check if a number is present in a given range.\n",
        "\n",
        "def num_is(number, start, end):\n",
        "  return start <= number <= end\n",
        "\n",
        "start = 1\n",
        "end = 10\n",
        "number = 2\n",
        "\n",
        "result = num_is(number,start,end)\n",
        "print(result)"
      ],
      "metadata": {
        "colab": {
          "base_uri": "https://localhost:8080/"
        },
        "id": "NerxMniE8O5F",
        "outputId": "d5c15b5f-5831-442d-b3a4-5f02cdcbade9"
      },
      "execution_count": null,
      "outputs": [
        {
          "output_type": "stream",
          "name": "stdout",
          "text": [
            "True\n"
          ]
        }
      ]
    },
    {
      "cell_type": "code",
      "source": [
        "#7. Write a Python program to reverse a range of numbers and print them.\n",
        "\n",
        "def rev_range(start,end):\n",
        "  reverse_range = range(end,start-1,-1)\n",
        "  for i in reverse_range:\n",
        "    print(i , end=' ')\n",
        "\n",
        "start = 1\n",
        "end = 10\n",
        "\n",
        "result = rev_range(start,end)\n",
        "print(result)"
      ],
      "metadata": {
        "colab": {
          "base_uri": "https://localhost:8080/"
        },
        "id": "j2UJFv3289fK",
        "outputId": "1578ecfb-ff2a-44a3-bc11-adb7b1c2ccc1"
      },
      "execution_count": null,
      "outputs": [
        {
          "output_type": "stream",
          "name": "stdout",
          "text": [
            "10 9 8 7 6 5 4 3 2 1 None\n"
          ]
        }
      ]
    },
    {
      "cell_type": "code",
      "source": [
        "#8. Write a Python program to find the product of all numbers in a range.\n",
        "\n",
        "def prod(start,end):\n",
        "  product = 1\n",
        "\n",
        "  for i in range(start,end + 1):\n",
        "    product *= i\n",
        "\n",
        "  return product\n",
        "\n",
        "start = 1\n",
        "end = 5\n",
        "\n",
        "result = prod(start,end)\n",
        "print(result)"
      ],
      "metadata": {
        "colab": {
          "base_uri": "https://localhost:8080/"
        },
        "id": "Ii3gWH7c9moZ",
        "outputId": "8c2567df-a5d2-4d00-ccfb-09aee82e7fe2"
      },
      "execution_count": null,
      "outputs": [
        {
          "output_type": "stream",
          "name": "stdout",
          "text": [
            "120\n"
          ]
        }
      ]
    },
    {
      "cell_type": "code",
      "source": [
        "#9. Write a Python program to print the squares of all numbers in a range.\n",
        "\n",
        "def print_squares(start, end):\n",
        "    for number in range(start, end + 1):\n",
        "        square = number ** 2\n",
        "        print(f\"The square of {number} is: {square}\")\n",
        "\n",
        "start = 1\n",
        "end = 5\n",
        "\n",
        "print(f\"Squares of numbers from {start} to {end}:\")\n",
        "print_squares(start, end)"
      ],
      "metadata": {
        "colab": {
          "base_uri": "https://localhost:8080/"
        },
        "id": "EKGHpALA-cFs",
        "outputId": "f8ec40f7-1261-4dc1-f3d8-3c04a2694856"
      },
      "execution_count": null,
      "outputs": [
        {
          "output_type": "stream",
          "name": "stdout",
          "text": [
            "Squares of numbers from 1 to 5:\n",
            "The square of 1 is: 1\n",
            "The square of 2 is: 4\n",
            "The square of 3 is: 9\n",
            "The square of 4 is: 16\n",
            "The square of 5 is: 25\n"
          ]
        }
      ]
    },
    {
      "cell_type": "code",
      "source": [
        "#10. Write a Python program to print the cube of all numbers in a range.\n",
        "\n",
        "def print_squares(start, end):\n",
        "    for number in range(start, end + 1):\n",
        "        square = number ** 3\n",
        "        print(f\"The square of {number} is: {square}\")\n",
        "\n",
        "start = 1\n",
        "end = 5\n",
        "\n",
        "print(f\"Squares of numbers from {start} to {end}:\")\n",
        "print_squares(start, end)"
      ],
      "metadata": {
        "colab": {
          "base_uri": "https://localhost:8080/"
        },
        "id": "jbeudWqH-62Z",
        "outputId": "f8d8a56d-05a2-4c18-c2c9-02a3da096c54"
      },
      "execution_count": null,
      "outputs": [
        {
          "output_type": "stream",
          "name": "stdout",
          "text": [
            "Squares of numbers from 1 to 5:\n",
            "The square of 1 is: 1\n",
            "The square of 2 is: 8\n",
            "The square of 3 is: 27\n",
            "The square of 4 is: 64\n",
            "The square of 5 is: 125\n"
          ]
        }
      ]
    },
    {
      "cell_type": "markdown",
      "source": [
        "#For Loop Exercises:"
      ],
      "metadata": {
        "id": "TUJpqK8K_gSb"
      }
    },
    {
      "cell_type": "code",
      "source": [
        "#1. Write a Python program to print the numbers from 1 to 10 using a for loop.\n",
        "\n",
        "for number in range(1,10):\n",
        "  print(number , end = ' ')"
      ],
      "metadata": {
        "colab": {
          "base_uri": "https://localhost:8080/"
        },
        "id": "jqSVTuh3_WnO",
        "outputId": "7589467f-d198-4658-81a1-d5b6d9336f41"
      },
      "execution_count": null,
      "outputs": [
        {
          "output_type": "stream",
          "name": "stdout",
          "text": [
            "1 2 3 4 5 6 7 8 9 "
          ]
        }
      ]
    },
    {
      "cell_type": "code",
      "source": [
        "#2. Write a Python program to calculate the sum of all numbers in a list using a for loop.\n",
        "\n",
        "list1 = [1,2,3,4,5]\n",
        "result = sum(list1)\n",
        "print(f\"Sum of {list1} is : {result} \")"
      ],
      "metadata": {
        "colab": {
          "base_uri": "https://localhost:8080/"
        },
        "id": "e6MtHeU7ABr4",
        "outputId": "91e90ad9-e441-4572-cdf9-65e0fcd9b3e7"
      },
      "execution_count": null,
      "outputs": [
        {
          "output_type": "stream",
          "name": "stdout",
          "text": [
            "Sum of [1, 2, 3, 4, 5] is : 15 \n"
          ]
        }
      ]
    },
    {
      "cell_type": "code",
      "source": [
        "#3. Write a Python program to find the factorial of a number using a for loop.\n",
        "\n",
        "def fact(number):\n",
        "  result = 1\n",
        "\n",
        "  for i in range(1, number+1):\n",
        "    result *= i\n",
        "\n",
        "  return result\n",
        "\n",
        "number = 4\n",
        "\n",
        "print(f\"The factorial of {number} is: {fact(number)}\")\n",
        "\n"
      ],
      "metadata": {
        "colab": {
          "base_uri": "https://localhost:8080/"
        },
        "id": "7jGxzBKeAR4u",
        "outputId": "2913a94f-32c8-4f01-b0b6-856470acf2a0"
      },
      "execution_count": null,
      "outputs": [
        {
          "output_type": "stream",
          "name": "stdout",
          "text": [
            "The factorial of 4 is: 24\n"
          ]
        }
      ]
    },
    {
      "cell_type": "code",
      "source": [
        "#4. Write a Python program to print all the even numbers between 1 and 50 using a for loop.\n",
        "\n",
        "for i in range(1,51):\n",
        "  if i % 2 == 0:\n",
        "    print(i ,end=' ')"
      ],
      "metadata": {
        "colab": {
          "base_uri": "https://localhost:8080/"
        },
        "id": "HwOwr6CtBRwG",
        "outputId": "90baad7a-12a6-4b9b-9f92-8470d2af1ece"
      },
      "execution_count": null,
      "outputs": [
        {
          "output_type": "stream",
          "name": "stdout",
          "text": [
            "2 4 6 8 10 12 14 16 18 20 22 24 26 28 30 32 34 36 38 40 42 44 46 48 50 "
          ]
        }
      ]
    },
    {
      "cell_type": "code",
      "source": [
        "#5. Write a Python program to iterate over a string and print each character using a for loop.\n",
        "\n",
        "str1 = ('Hello World')\n",
        "for i in str1:\n",
        "  print(i, end =' ')"
      ],
      "metadata": {
        "colab": {
          "base_uri": "https://localhost:8080/"
        },
        "id": "-9AJN1F3BgiV",
        "outputId": "3c103ebd-c557-415b-b307-ff88d83fe2d5"
      },
      "execution_count": null,
      "outputs": [
        {
          "output_type": "stream",
          "name": "stdout",
          "text": [
            "H e l l o   W o r l d "
          ]
        }
      ]
    },
    {
      "cell_type": "code",
      "source": [
        "#6. Write a Python program to iterate over a list of tuples and print each element using a for loop.\n",
        "\n",
        "list_of_tuples = [(1, 'a'), (2, 'b'), (3, 'c')]\n",
        "\n",
        "for tuple_element in list_of_tuples:\n",
        "    for element in tuple_element:\n",
        "        print(element, end= ' ')"
      ],
      "metadata": {
        "colab": {
          "base_uri": "https://localhost:8080/"
        },
        "id": "GO2PQ83HB4mo",
        "outputId": "44d08fcd-3805-4aee-9332-43fca515450f"
      },
      "execution_count": null,
      "outputs": [
        {
          "output_type": "stream",
          "name": "stdout",
          "text": [
            "1 a 2 b 3 c "
          ]
        }
      ]
    },
    {
      "cell_type": "code",
      "source": [
        "#7. Write a Python program to find the largest element in a list using a for loop.\n",
        "\n",
        "my_list = [11,22,101,24,34,31,50]\n",
        "largest_ele =my_list[0] #Initialize the largest element with the first element of the list\n",
        "\n",
        "for i in my_list: #Iterate over the list using a for loop\n",
        "  if i > largest_ele:\n",
        "    largest_ele = i\n",
        "\n",
        "print(largest_ele)"
      ],
      "metadata": {
        "colab": {
          "base_uri": "https://localhost:8080/"
        },
        "id": "YHcprCTxCTxJ",
        "outputId": "4bcffe1b-c702-476f-e99a-353e443d3b58"
      },
      "execution_count": null,
      "outputs": [
        {
          "output_type": "stream",
          "name": "stdout",
          "text": [
            "101\n"
          ]
        }
      ]
    },
    {
      "cell_type": "code",
      "source": [
        "#8. Write a Python program to check if all elements in a list are even using a for loop.\n",
        "\n",
        "my_list = [2,4,6,8,10]\n",
        "\n",
        "all_even = True\n",
        "\n",
        "for i in my_list:\n",
        "  if i % 2 != 0:\n",
        "    all_even = False\n",
        "    Break\n",
        "\n",
        "if all_even:\n",
        "  print(\"All elements in the list are even.\")\n",
        "else:\n",
        "  print(\"All elements in the list are not even.\")"
      ],
      "metadata": {
        "colab": {
          "base_uri": "https://localhost:8080/"
        },
        "id": "Y2xavjUNC96I",
        "outputId": "5902190a-4853-4fc3-e9bd-1852fe9d3031"
      },
      "execution_count": null,
      "outputs": [
        {
          "output_type": "stream",
          "name": "stdout",
          "text": [
            "All elements in the list are even.\n"
          ]
        }
      ]
    },
    {
      "cell_type": "code",
      "source": [
        "#9. Write a Python program to find the common elements between two lists using a for loop.\n",
        "\n",
        "list1 = [1, 2, 3, 4, 5]\n",
        "list2 = [3, 4, 5, 6, 7]\n",
        "\n",
        "common = []\n",
        "\n",
        "for element1 in list1:\n",
        "  if element1 in list2:\n",
        "    common.append(element1)\n",
        "\n",
        "print(common)"
      ],
      "metadata": {
        "colab": {
          "base_uri": "https://localhost:8080/"
        },
        "id": "aHai6XOtEGA6",
        "outputId": "dd1228d5-6cb5-484c-c606-65cfd8f305db"
      },
      "execution_count": null,
      "outputs": [
        {
          "output_type": "stream",
          "name": "stdout",
          "text": [
            "[3, 4, 5]\n"
          ]
        }
      ]
    },
    {
      "cell_type": "code",
      "source": [
        "#10. Write a Python program to calculate the sum of the digits of a number using a for loop.\n",
        "\n",
        "def sum_d(number):\n",
        "  number1 = str(number)\n",
        "\n",
        "  digit_sum = 0\n",
        "\n",
        "  for i in number1:\n",
        "    digit_sum += int(i)\n",
        "  return digit_sum\n",
        "\n",
        "no = 100\n",
        "\n",
        "result = sum_d(no)\n",
        "print(result)"
      ],
      "metadata": {
        "colab": {
          "base_uri": "https://localhost:8080/"
        },
        "id": "E8BMp-D9Ey8v",
        "outputId": "c649d59f-84cd-44b4-db9a-bf5f0c833d66"
      },
      "execution_count": null,
      "outputs": [
        {
          "output_type": "stream",
          "name": "stdout",
          "text": [
            "1\n"
          ]
        }
      ]
    },
    {
      "cell_type": "markdown",
      "source": [
        "#If-Else Loop Exercises:"
      ],
      "metadata": {
        "id": "aNedDW_gTe8-"
      }
    },
    {
      "cell_type": "code",
      "source": [
        "#1. Write a Python program to check if a number is positive, negative, or zero.\n",
        "\n",
        "i = int(input('Enter Number :'))\n",
        "\n",
        "if i == 0:\n",
        "  print('Number is Zero')\n",
        "elif i > 0:\n",
        "  print('Number is Positive')\n",
        "else:\n",
        "  print('Number is Negative')"
      ],
      "metadata": {
        "id": "QuYc8rj1FhHP",
        "colab": {
          "base_uri": "https://localhost:8080/"
        },
        "outputId": "22c33118-4c27-4c08-9176-c0b5f52db9a3"
      },
      "execution_count": null,
      "outputs": [
        {
          "output_type": "stream",
          "name": "stdout",
          "text": [
            "Enter Number :-12\n",
            "Number is Negative\n"
          ]
        }
      ]
    },
    {
      "cell_type": "code",
      "source": [
        "#2. Write a Python program to check if a number is even or odd.\n",
        "\n",
        "def even_odd(number):\n",
        "  if number % 2 == 0:\n",
        "    return \"an Even Number\"\n",
        "  else:\n",
        "    return \"a Odd Number\"\n",
        "\n",
        "i = int(input('Enter Number :'))\n",
        "result = even_odd(i)\n",
        "print(f\"{i} is {result}\")"
      ],
      "metadata": {
        "colab": {
          "base_uri": "https://localhost:8080/"
        },
        "id": "M7gCkHzaTpsJ",
        "outputId": "c4977c96-b8c8-4b92-a3b9-affde6552671"
      },
      "execution_count": null,
      "outputs": [
        {
          "output_type": "stream",
          "name": "stdout",
          "text": [
            "Enter Number :12\n",
            "12 is an Even Number\n"
          ]
        }
      ]
    },
    {
      "cell_type": "code",
      "source": [
        "#3. Write a Python program to check if a year is a leap year or not.\n",
        "\n",
        "def leap(year):\n",
        "  if (year % 4 == 0 and year % 100 != 0):\n",
        "    return True\n",
        "  else:\n",
        "    return False\n",
        "\n",
        "i = int(input('Enter Year:'))\n",
        "result = leap(i)\n",
        "print(f\"{i} is a Leap Year :{result}\")"
      ],
      "metadata": {
        "colab": {
          "base_uri": "https://localhost:8080/"
        },
        "id": "5HofrYuSVJGW",
        "outputId": "2b53298b-851d-40d5-b53f-b3b5b0c5578b"
      },
      "execution_count": null,
      "outputs": [
        {
          "output_type": "stream",
          "name": "stdout",
          "text": [
            "Enter Year:2036\n",
            "2036 is a Leap Year :True\n"
          ]
        }
      ]
    },
    {
      "cell_type": "code",
      "source": [
        "#4. Write a Python program to find the maximum of three numbers using if-else.\n",
        "\n",
        "def max_num(n1,n2,n3):\n",
        "  if n1 >= n2 and n1 >= n3:\n",
        "    return n1\n",
        "  elif n2 >= n3 and n2 >= n1:\n",
        "    return n2\n",
        "  else:\n",
        "    return n3\n",
        "\n",
        "Num1 = int(input('Enter the 1st Number :'))\n",
        "Num2 = int(input('Enter the 2nd Number :'))\n",
        "Num3 = int(input('Enter the 3rd Number :'))\n",
        "\n",
        "result = max_num(Num1,Num2,Num3)\n",
        "\n",
        "print(f\"The Max of {Num1}, {Num2}, {Num3} is : {result}\")"
      ],
      "metadata": {
        "colab": {
          "base_uri": "https://localhost:8080/"
        },
        "id": "gp7pTEamWFPX",
        "outputId": "d1d6b876-5821-4eb0-d30e-c92c88402e96"
      },
      "execution_count": null,
      "outputs": [
        {
          "output_type": "stream",
          "name": "stdout",
          "text": [
            "Enter the 1st Number :2\n",
            "Enter the 2nd Number :3\n",
            "Enter the 3rd Number :4\n",
            "The Max of 2, 3, 4 is : 4\n"
          ]
        }
      ]
    },
    {
      "cell_type": "code",
      "source": [
        "#5. Write a Python program to check if a number is prime.\n",
        "\n",
        "import math\n",
        "def prime(num):\n",
        "  if num <= 1:\n",
        "    return False\n",
        "  for i in range(2,int(math.sqrt(num)) + 1):\n",
        "    if num % i == 0:\n",
        "      return False\n",
        "  return True\n",
        "\n",
        "n1 = int(input(\"Enter a number: \"))\n",
        "\n",
        "if prime(n1):\n",
        "    print(f\"{n1} is a prime number.\")\n",
        "else:\n",
        "    print(f\"{n1} is not a prime number.\")\n"
      ],
      "metadata": {
        "colab": {
          "base_uri": "https://localhost:8080/"
        },
        "id": "2jmW7KNFW-N5",
        "outputId": "54fdb5dc-8a41-46a1-bcd8-58ef33998c78"
      },
      "execution_count": null,
      "outputs": [
        {
          "output_type": "stream",
          "name": "stdout",
          "text": [
            "Enter a number: 3\n",
            "3 is a prime number.\n"
          ]
        }
      ]
    },
    {
      "cell_type": "code",
      "source": [
        "#6. Write a Python program to check if a number is divisible by both 3 and 5.\n",
        "\n",
        "def div(num):\n",
        "  if num % 3 == 0 and num % 5 == 0:\n",
        "    return True\n",
        "  else:\n",
        "    return False\n",
        "\n",
        "i = int(input('Enter a number :'))\n",
        "result = div(i)\n",
        "print(f\" {i} is dividible by 3 & 5 ?? Ans : {result}\")"
      ],
      "metadata": {
        "id": "FQsJop87Z5fL",
        "colab": {
          "base_uri": "https://localhost:8080/"
        },
        "outputId": "e49b8f46-0406-494d-f072-c13efe205d10"
      },
      "execution_count": null,
      "outputs": [
        {
          "output_type": "stream",
          "name": "stdout",
          "text": [
            "Enter a number :21\n",
            " 21 is dividible by 3 & 5 ?? Ans : False\n"
          ]
        }
      ]
    },
    {
      "cell_type": "code",
      "source": [
        "#7. Write a Python program to check if a character is a vowel or consonant.\n",
        "\n",
        "def vs(char):\n",
        "  char_lower = char.lower()\n",
        "\n",
        "  if char_lower in ('a','e','i','o','u'):\n",
        "    return \"Vowel\"\n",
        "  else:\n",
        "    return \"Consonant\"\n",
        "\n",
        "S = input(\"Enter a Character :\")\n",
        "result = vs(S)\n",
        "print(f\"{S} is {result}\")"
      ],
      "metadata": {
        "colab": {
          "base_uri": "https://localhost:8080/"
        },
        "id": "W_Fd0hTn7_S3",
        "outputId": "153d4cb9-08a4-4f22-dc24-4c3d45239057"
      },
      "execution_count": null,
      "outputs": [
        {
          "output_type": "stream",
          "name": "stdout",
          "text": [
            "Enter a Character :a\n",
            "a is Vowel\n"
          ]
        }
      ]
    },
    {
      "cell_type": "code",
      "source": [
        "#8. Write a Python program to check if a given string is a palindrome using if-else.\n",
        "\n",
        "def pan(str1):\n",
        "  s1 = str1.replace(\" \",\"\").lower()\n",
        "  return s1 == s1[::-1]\n",
        "\n",
        "in1 = input(\"Enter a String:\")\n",
        "\n",
        "if pan(in1):\n",
        "  print(f\"{in1} is a Palindrome\")\n",
        "else:\n",
        "  print(f\"{in1} is not a Palindrome\")"
      ],
      "metadata": {
        "colab": {
          "base_uri": "https://localhost:8080/"
        },
        "id": "4NgR3mWS9E61",
        "outputId": "99e21b10-4a01-4016-ec83-101a5baed13d"
      },
      "execution_count": null,
      "outputs": [
        {
          "output_type": "stream",
          "name": "stdout",
          "text": [
            "Enter a String:we ew\n",
            "we ew is a Palindrome\n"
          ]
        }
      ]
    },
    {
      "cell_type": "code",
      "source": [
        "#9. Write a Python program to determine the largest among three numbers using nested if-else.\n",
        "\n",
        "def largest_num(n1,n2,n3):\n",
        "  if n1 >= n2:\n",
        "    if n1 >= n3:\n",
        "      return n1\n",
        "    else:\n",
        "      return n3\n",
        "  else:\n",
        "    if n2 >= n3:\n",
        "      return n2\n",
        "    else:\n",
        "      return n3\n",
        "\n",
        "num1 = int(input(\"Enter 1st Number :\"))\n",
        "num2 = int(input(\"Enter 2nd Number :\"))\n",
        "num3 = int(input(\"Enter 3rd Number :\"))\n",
        "\n",
        "result = largest_num(num1,num2,num3)\n",
        "\n",
        "print(f\"The largest among {num1},{num2},{num3} is : {result}\")"
      ],
      "metadata": {
        "colab": {
          "base_uri": "https://localhost:8080/"
        },
        "id": "dYSvBXhs-Bll",
        "outputId": "2ec3d09e-b005-40fc-de50-1ff63b910872"
      },
      "execution_count": null,
      "outputs": [
        {
          "output_type": "stream",
          "name": "stdout",
          "text": [
            "Enter 1st Number :21\n",
            "Enter 2nd Number :23\n",
            "Enter 3rd Number :33\n",
            "The largest among 21,23,33 is : 33\n"
          ]
        }
      ]
    },
    {
      "cell_type": "code",
      "source": [
        "#10. Write a Python program to check if a triangle is equilateral, isosceles, or scalene based on its side lengths using if-else.\n",
        "\n",
        "def triangle_type(side1,side2,side3):\n",
        "  if side1 == side2 == side3:\n",
        "    return \"Equilateral\"\n",
        "  elif side1 == side2 or side1 == side3 or side2 == side3:\n",
        "    return \"Isosceles\"\n",
        "  else:\n",
        "    return \"Scalene\"\n",
        "\n",
        "side_length1 = float(input(\"Enter the length of the first side: \"))\n",
        "side_length2 = float(input(\"Enter the length of the second side: \"))\n",
        "side_length3 = float(input(\"Enter the length of the third side: \"))\n",
        "\n",
        "result = triangle_type(side_length1,side_length2,side_length3)\n",
        "print(f\"The triangle with side lengths {side_length1}, {side_length2}, and {side_length3} is: {result}\")"
      ],
      "metadata": {
        "colab": {
          "base_uri": "https://localhost:8080/"
        },
        "id": "XDIO-ri1_Eq7",
        "outputId": "efcc8d26-613b-4d91-b784-6427c1d58b29"
      },
      "execution_count": null,
      "outputs": [
        {
          "output_type": "stream",
          "name": "stdout",
          "text": [
            "Enter the length of the first side: 21\n",
            "Enter the length of the second side: 22\n",
            "Enter the length of the third side: 21\n",
            "The triangle with side lengths 21.0, 22.0, and 21.0 is: Isosceles\n"
          ]
        }
      ]
    },
    {
      "cell_type": "markdown",
      "source": [
        "#While Loop Exercises:"
      ],
      "metadata": {
        "id": "Wj_5svrRB_pq"
      }
    },
    {
      "cell_type": "code",
      "source": [
        "#1. Write a Python program to print the numbers from 1 to 10 using a while loop.\n",
        "\n",
        "number = 1\n",
        "\n",
        "while number <= 10:\n",
        "    print(number, end=\" \")\n",
        "    number += 1\n",
        "\n"
      ],
      "metadata": {
        "colab": {
          "base_uri": "https://localhost:8080/"
        },
        "id": "kjak2g2V__2y",
        "outputId": "26bb5230-f33f-4854-df78-6dbe8d4608e3"
      },
      "execution_count": null,
      "outputs": [
        {
          "output_type": "stream",
          "name": "stdout",
          "text": [
            "1 2 3 4 5 6 7 8 9 10 "
          ]
        }
      ]
    },
    {
      "cell_type": "code",
      "source": [
        "#2. Write a Python program to calculate the sum of all numbers from 1 to 100 using a while loop.\n",
        "\n",
        "number = 1\n",
        "sum = 0\n",
        "\n",
        "while number <= 100:\n",
        "  sum += number\n",
        "  number +=  1\n",
        "\n",
        "print(f\"Sum of 1 to 100 numbers is : {sum}\")"
      ],
      "metadata": {
        "colab": {
          "base_uri": "https://localhost:8080/"
        },
        "id": "9D7pT-TtDB1x",
        "outputId": "2bc64ed8-a78c-42e6-f3fe-5e240d4b9aeb"
      },
      "execution_count": null,
      "outputs": [
        {
          "output_type": "stream",
          "name": "stdout",
          "text": [
            "Sum of 1 to 100 numbers is : 5050\n"
          ]
        }
      ]
    },
    {
      "cell_type": "code",
      "source": [
        "#3. Write a Python program to find the factorial of a number using a while loop.\n",
        "\n",
        "def fact(n):\n",
        "  result = 1\n",
        "  while n > 0:\n",
        "    result *= n\n",
        "    n -= 1\n",
        "  return result\n",
        "\n",
        "i = int(input(\"Enter a number: \"))\n",
        "\n",
        "result = fact(i)\n",
        "print(f\"The Factorial of {i} is : {result}\")"
      ],
      "metadata": {
        "colab": {
          "base_uri": "https://localhost:8080/"
        },
        "id": "1ruZ9kWSDWhq",
        "outputId": "7f9b82f4-0841-42c1-f60b-37017bbbccd6"
      },
      "execution_count": null,
      "outputs": [
        {
          "output_type": "stream",
          "name": "stdout",
          "text": [
            "Enter a number: 4\n",
            "The Factorial of 4 is : 24\n"
          ]
        }
      ]
    },
    {
      "cell_type": "code",
      "source": [
        "#4. Write a Python program to print all the even numbers between 1 and 50 using a while loop.\n",
        "\n",
        "def eve(num):\n",
        "  while num <= 50:\n",
        "    if num % 2 == 0:\n",
        "      return \"Even\"\n",
        "    else:\n",
        "      return \"Odd\"\n",
        "\n",
        "i = int(input(\"Enter a number :\"))\n",
        "result = eve(i)\n",
        "print(f\"{i} is {result}\")"
      ],
      "metadata": {
        "colab": {
          "base_uri": "https://localhost:8080/"
        },
        "id": "oRSgEezHFKqu",
        "outputId": "6034d788-b015-40c4-b7b3-1264f1d96a16"
      },
      "execution_count": null,
      "outputs": [
        {
          "output_type": "stream",
          "name": "stdout",
          "text": [
            "Enter a number :50\n",
            "50 is Even\n"
          ]
        }
      ]
    },
    {
      "cell_type": "code",
      "source": [
        "#4. Write a Python program to print all the even numbers between 1 and 50 using a while loop.\n",
        "\n",
        "number = 2\n",
        "# EVEN\n",
        "while number <= 50:\n",
        "    print(number, end=\" \")\n",
        "    number += 2\n",
        "print('\\n')\n",
        "\n",
        "number1 = 1\n",
        "#ODD\n",
        "while number1 <= 50:\n",
        "    print(number1, end=\" \")\n",
        "    number1 += 2"
      ],
      "metadata": {
        "colab": {
          "base_uri": "https://localhost:8080/"
        },
        "id": "5slr9eseGIep",
        "outputId": "cc760226-fc98-49e2-f6e5-afbd770e853c"
      },
      "execution_count": null,
      "outputs": [
        {
          "output_type": "stream",
          "name": "stdout",
          "text": [
            "2 4 6 8 10 12 14 16 18 20 22 24 26 28 30 32 34 36 38 40 42 44 46 48 50 \n",
            "\n",
            "1 3 5 7 9 11 13 15 17 19 21 23 25 27 29 31 33 35 37 39 41 43 45 47 49 "
          ]
        }
      ]
    },
    {
      "cell_type": "code",
      "source": [
        "#5. Write a Python program to iterate over a string and print each character using a while loop.\n",
        "\n",
        "str1 = \"My name is Sandeep\"\n",
        "index = 0\n",
        "\n",
        "print(len(str1))\n",
        "while index < len(str1):\n",
        "  print(str1[index], end=\" \")\n",
        "  index += 1"
      ],
      "metadata": {
        "colab": {
          "base_uri": "https://localhost:8080/"
        },
        "id": "2eLBMG4lG9n9",
        "outputId": "0612fa06-c534-40b4-fabb-8238bb1a4962"
      },
      "execution_count": null,
      "outputs": [
        {
          "output_type": "stream",
          "name": "stdout",
          "text": [
            "18\n",
            "M y   n a m e   i s   S a n d e e p "
          ]
        }
      ]
    },
    {
      "cell_type": "code",
      "source": [
        "#6. Write a Python program to iterate over a list of tuples and print each element using a while loop.\n",
        "\n",
        "list_of_tuples = [(1, 'a'), (2, 'b'), (3, 'c')]\n",
        "\n",
        "index = 0\n",
        "\n",
        "print(f\"Length :{len(list_of_tuples)}\")\n",
        "\n",
        "while index < len(list_of_tuples):\n",
        "    inner_index = 0\n",
        "    while inner_index < len(list_of_tuples[index]):\n",
        "        print(list_of_tuples[index][inner_index], end=\" \")\n",
        "        inner_index += 1\n",
        "\n",
        "    print()\n",
        "    index += 1\n"
      ],
      "metadata": {
        "colab": {
          "base_uri": "https://localhost:8080/"
        },
        "id": "AGTzRrVLI7NV",
        "outputId": "1bbee563-d779-4f65-b1ee-1affcdad80a0"
      },
      "execution_count": null,
      "outputs": [
        {
          "output_type": "stream",
          "name": "stdout",
          "text": [
            "Length :3\n",
            "1 a \n",
            "2 b \n",
            "3 c \n"
          ]
        }
      ]
    },
    {
      "cell_type": "code",
      "source": [
        "#7. Write a Python program to find the largest element in a list using a while loop.\n",
        "\n",
        "def large(list1):\n",
        "  if not list1:\n",
        "    return none\n",
        "\n",
        "  large_ele = list1[0]\n",
        "  index = 1\n",
        "\n",
        "  while index < len(list1):\n",
        "    if list1[index] > large_ele:\n",
        "      large_ele = list1[index]\n",
        "    index += 1\n",
        "  return large_ele\n",
        "\n",
        "mylist = [3, 7, 1, 5, 9, 2, 8,122]\n",
        "\n",
        "result = large(mylist)\n",
        "\n",
        "if result is not None:\n",
        "    print(f\"The largest element in the list is: {result}\")\n",
        "else:\n",
        "    print(\"The list is empty.\")"
      ],
      "metadata": {
        "colab": {
          "base_uri": "https://localhost:8080/"
        },
        "id": "QQDbjANAJyjw",
        "outputId": "d4aad3ee-c282-4e76-81b6-5ac759e47a14"
      },
      "execution_count": null,
      "outputs": [
        {
          "output_type": "stream",
          "name": "stdout",
          "text": [
            "The largest element in the list is: 122\n"
          ]
        }
      ]
    },
    {
      "cell_type": "code",
      "source": [
        "#8. Write a Python program to check if all elements in a list are even using a while loop.\n",
        "\n",
        "def all_even(list1):\n",
        "  if not list1: #Check for empty list\n",
        "    return False #if list is empty, return False\n",
        "\n",
        "  index = 0\n",
        "\n",
        "  while index < len(list1):\n",
        "    if list1[index] % 2 != 0:\n",
        "      return False\n",
        "    index += 1\n",
        "  return True\n",
        "\n",
        "sample_list = [1, 4, 6, 8, 10]\n",
        "\n",
        "if all_even(sample_list):\n",
        "    print(\"All elements in the list are even.\")\n",
        "else:\n",
        "    print(\"Not all elements in the list are even.\")\n"
      ],
      "metadata": {
        "id": "VvY6EtctNngW",
        "colab": {
          "base_uri": "https://localhost:8080/"
        },
        "outputId": "a63c6e1b-fc88-43f7-b5a4-c6bc2a7dbacb"
      },
      "execution_count": null,
      "outputs": [
        {
          "output_type": "stream",
          "name": "stdout",
          "text": [
            "Not all elements in the list are even.\n"
          ]
        }
      ]
    },
    {
      "cell_type": "code",
      "source": [
        "#9. Write a Python program to find the common elements between two lists using a while loop.\n",
        "\n",
        "def common_ele(list1,list2):\n",
        "  common_elements = []\n",
        "\n",
        "  if not list1 or not list2: #Check for empty list\n",
        "    return common_elements #Return an empty list if either of the lists is empty\n",
        "\n",
        "  index1 = 0\n",
        "  index2 = 0\n",
        "\n",
        "  while index1 < len(list1) and index2 < len(list2):\n",
        "    if list1[index1] == list2[index2]:\n",
        "      common_elements.append(list1[index1])\n",
        "      index1 += 1\n",
        "      index2 += 1\n",
        "    elif list1[index1] < list2[index2]:\n",
        "      index1 += 1\n",
        "    else:\n",
        "      index2 += 1\n",
        "  return common_elements\n",
        "\n",
        "list1 = [1, 2, 3, 4, 5]\n",
        "list2 = [3, 4, 5, 6, 7]\n",
        "\n",
        "result = common_ele(list1, list2)\n",
        "\n",
        "if result:\n",
        "    print(f\"The common elements between the two lists are: {result}\")\n",
        "else:\n",
        "    print(\"There are no common elements between the two lists.\")"
      ],
      "metadata": {
        "id": "MbU0VponNnXR",
        "colab": {
          "base_uri": "https://localhost:8080/"
        },
        "outputId": "28d6626d-a6a6-40d4-a718-4aa2a0f199cf"
      },
      "execution_count": null,
      "outputs": [
        {
          "output_type": "stream",
          "name": "stdout",
          "text": [
            "The common elements between the two lists are: [3, 4, 5]\n"
          ]
        }
      ]
    },
    {
      "cell_type": "code",
      "source": [
        "#10. Write a Python program to calculate the sum of the digits of a number using a while loop.\n",
        "\n",
        "def sum_digit(number):\n",
        "  if not isinstance(number,int) or number < 0: #Check for negative input number\n",
        "    return \"Invalid Input\"\n",
        "\n",
        "  num = number\n",
        "  sum = 0\n",
        "\n",
        "  while num > 0:  #Use a while loop to extract digits and calculate the sum\n",
        "    sum += num % 10\n",
        "    num //= 10\n",
        "  return sum\n",
        "\n",
        "input_number = int(input(\"Enter a number: \"))\n",
        "\n",
        "result = sum_digit(input_number)\n",
        "print(f\"The sum of the digits of {input_number} is: {result}\")"
      ],
      "metadata": {
        "id": "t45TU7_7MGp2",
        "colab": {
          "base_uri": "https://localhost:8080/"
        },
        "outputId": "fd1f2159-9059-4077-d159-7c55bc0b1b52"
      },
      "execution_count": null,
      "outputs": [
        {
          "output_type": "stream",
          "name": "stdout",
          "text": [
            "Enter a number: 21\n",
            "The sum of the digits of 21 is: 3\n"
          ]
        }
      ]
    },
    {
      "cell_type": "markdown",
      "source": [
        "#Break Statement Exercises:"
      ],
      "metadata": {
        "id": "ssJ6upEHNotU"
      }
    },
    {
      "cell_type": "code",
      "source": [
        "#1. Write a Python program to find the first occurrence of a number in a list using a for loop and break statement.\n",
        "\n",
        "def find_first_occurrence(my_list, target_number):\n",
        "  for index, number in enumerate(my_list):\n",
        "    if number == target_number:\n",
        "      return index  ## Return the index of the first occurrence\n",
        "  return -1  # Return -1 if the number is not found in the list\n",
        "\n",
        "sample_list = [4, 2, 7, 1, 3, 2, 9]\n",
        "\n",
        "target = int(input(\"Enter the number to find: \"))\n",
        "\n",
        "result = find_first_occurrence(sample_list, target)\n",
        "\n",
        "if result != -1:\n",
        "    print(f\"The first occurrence of {target} is at index {result}.\")\n",
        "else:\n",
        "    print(f\"{target} is not present in the list.\")"
      ],
      "metadata": {
        "id": "JAF8R8MRNpek",
        "colab": {
          "base_uri": "https://localhost:8080/"
        },
        "outputId": "1b5cc282-6caf-4a26-ef94-cd4cc2c94b0b"
      },
      "execution_count": null,
      "outputs": [
        {
          "output_type": "stream",
          "name": "stdout",
          "text": [
            "Enter the number to find: 2\n",
            "The first occurrence of 2 is at index 1.\n"
          ]
        }
      ]
    },
    {
      "cell_type": "code",
      "source": [
        "#2. Write a Python program to search for a specific element in a list using a while loop and break statement.\n",
        "\n",
        "def search1(list1,target_ele):\n",
        "  index = 0\n",
        "  while index < len(list1):\n",
        "    if list1[index] == target_ele:\n",
        "      return index # Return the index if the element is found\n",
        "    index += 1\n",
        "  return -1 # Return -1 if the element is not found\n",
        "\n",
        "sample_list = [3, 7, 1, 5, 9, 2, 8]\n",
        "\n",
        "target = int(input(\"Enter the number to search: \"))\n",
        "\n",
        "result = search1(sample_list, target)\n",
        "\n",
        "if result != -1:\n",
        "    print(f\"{target} is present at index {result}.\")\n",
        "else:\n",
        "    print(f\"{target} is not present in the list.\")"
      ],
      "metadata": {
        "id": "-Jzc1GIYnhVA",
        "colab": {
          "base_uri": "https://localhost:8080/"
        },
        "outputId": "795fcb12-3bb8-4267-9673-6f1d6e719a4b"
      },
      "execution_count": null,
      "outputs": [
        {
          "output_type": "stream",
          "name": "stdout",
          "text": [
            "Enter the number to search: 2\n",
            "2 is present at index 5.\n"
          ]
        }
      ]
    },
    {
      "cell_type": "code",
      "source": [
        "#3. Write a Python program to find the prime numbers between 1 and 100 using a for loop and break statement.\n",
        "\n",
        "def is_prime(num):\n",
        "  if num < 2:\n",
        "    return False\n",
        "  for i in range(2, int(num**0.5) + 1):\n",
        "    if num % i == 0:\n",
        "      return False\n",
        "  return True\n",
        "\n",
        "for number in range(1, 101):\n",
        "  if is_prime(number):\n",
        "    print(number, end=\" \")\n"
      ],
      "metadata": {
        "colab": {
          "base_uri": "https://localhost:8080/"
        },
        "id": "EgF3vyuIPpMi",
        "outputId": "bec9d2e9-5c26-40d1-9e37-3b7a99a6bffb"
      },
      "execution_count": null,
      "outputs": [
        {
          "output_type": "stream",
          "name": "stdout",
          "text": [
            "2 3 5 7 11 13 17 19 23 29 31 37 41 43 47 53 59 61 67 71 73 79 83 89 97 "
          ]
        }
      ]
    },
    {
      "cell_type": "code",
      "source": [
        "#4. Write a Python program to check if a number is present in a list using a while loop and break statement.\n",
        "\n",
        "def present(list1,target_ele):\n",
        "  index = 0\n",
        "  while index < len(list1):\n",
        "    if list1[index] == target_ele:\n",
        "      return True\n",
        "    index += 1\n",
        "  return False\n",
        "\n",
        "sample_list = [3, 7, 1, 5, 9, 2, 8]\n",
        "\n",
        "target = int(input(\"Enter the number to check: \"))\n",
        "\n",
        "if present(sample_list, target):\n",
        "    print(f\"{target} is present in the list.\")\n",
        "else:\n",
        "    print(f\"{target} is not present in the list.\")"
      ],
      "metadata": {
        "colab": {
          "base_uri": "https://localhost:8080/"
        },
        "id": "otGtMQG1Qav4",
        "outputId": "d0a6ea1e-f77f-4e3a-b52b-b25f9210c3ae"
      },
      "execution_count": null,
      "outputs": [
        {
          "output_type": "stream",
          "name": "stdout",
          "text": [
            "Enter the number to check: 7\n",
            "7 is present in the list.\n"
          ]
        }
      ]
    },
    {
      "cell_type": "code",
      "source": [
        "#5. Write a Python program to find the largest palindrome number in a given range using a for loop and break statement.\n",
        "\n",
        "def is_palindrome(number): #Function to check if a number is a palindrome\n",
        "    return str(number) == str(number)[::-1]\n",
        "\n",
        "# Function to find the largest palindrome number in a given range\n",
        "def find_largest_palindrome(start, end):\n",
        "    largest_palindrome = 0\n",
        "    for num in range(end, start -1, -1):\n",
        "      if is_palindrome(num):\n",
        "        largest_palindrome = num\n",
        "        break\n",
        "    return largest_palindrome\n",
        "\n",
        "start_range = int(input(\"Enter the start of the range: \"))\n",
        "end_range = int(input(\"Enter the end of the range: \"))\n",
        "\n",
        "result = find_largest_palindrome(start_range, end_range)\n",
        "\n",
        "if result != 0:\n",
        "    print(f\"The largest palindrome number in the range {start_range} to {end_range} is: {result}\")\n",
        "else:\n",
        "    print(\"No palindrome number found in the given range.\")"
      ],
      "metadata": {
        "colab": {
          "base_uri": "https://localhost:8080/"
        },
        "id": "Ok6ZHVlPR3nX",
        "outputId": "2dace916-314b-40a4-b03b-3f7ff9c4b780"
      },
      "execution_count": null,
      "outputs": [
        {
          "output_type": "stream",
          "name": "stdout",
          "text": [
            "Enter the start of the range: 1\n",
            "Enter the end of the range: 12\n",
            "The largest palindrome number in the range 1 to 12 is: 11\n"
          ]
        }
      ]
    },
    {
      "cell_type": "code",
      "source": [
        "#6. Write a Python program to find the first negative number in a list using a while loop and break statement.\n",
        "\n",
        "def find_first_negative(my_list):\n",
        "  index = 0\n",
        "  while index < len(my_list):\n",
        "    if my_list[index] < 0:\n",
        "      return my_list[index]  # Return the first negative number\n",
        "    index += 1\n",
        "  return None  # Return None if no negative number is found\n",
        "\n",
        "sample_list = [3, 7, -1, 5, -9, 2, 8]\n",
        "\n",
        "result = find_first_negative(sample_list)\n",
        "\n",
        "if result is not None:\n",
        "    print(f\"The first negative number in the list is: {result}\")\n",
        "else:\n",
        "    print(\"No negative number found in the list.\")"
      ],
      "metadata": {
        "colab": {
          "base_uri": "https://localhost:8080/"
        },
        "id": "yr8lEBQaTHHT",
        "outputId": "db3d9f1f-593a-4a2a-9c34-a7c49a801bbf"
      },
      "execution_count": null,
      "outputs": [
        {
          "output_type": "stream",
          "name": "stdout",
          "text": [
            "The first negative number in the list is: -1\n"
          ]
        }
      ]
    },
    {
      "cell_type": "code",
      "source": [
        "#7. Write a Python program to print the elements of a list until a specific condition is met using a for loop and break statement.\n",
        "\n",
        "def print_until_condition(my_list, condition):\n",
        "  for element in my_list:\n",
        "    print(element, end=\" \")\n",
        "    if element == condition:\n",
        "      break\n",
        "\n",
        "sample_list = [3, 7, 1, 5, 9, 2, 8]\n",
        "\n",
        "condition_value = int(input(\"Enter the condition value: \"))\n",
        "\n",
        "print(\"Elements of the list until the condition is met:\")\n",
        "print_until_condition(sample_list, condition_value)"
      ],
      "metadata": {
        "colab": {
          "base_uri": "https://localhost:8080/"
        },
        "id": "4LeTmZ37T-_G",
        "outputId": "b6831bba-7aec-4faf-daa8-dc34abab2f8a"
      },
      "execution_count": null,
      "outputs": [
        {
          "output_type": "stream",
          "name": "stdout",
          "text": [
            "Enter the condition value: 1\n",
            "Elements of the list until the condition is met:\n",
            "3 7 1 "
          ]
        }
      ]
    },
    {
      "cell_type": "code",
      "source": [
        "  #8. Write a Python program to search for a specific character in a string using a while loop and break statement.\n",
        "\n",
        "def search_character(my_string, target_character):\n",
        "    index = 0\n",
        "    while index < len(my_string):\n",
        "      if my_string[index] == target_character:\n",
        "          return True  # Return True if the character is found\n",
        "      index += 1\n",
        "    return False # Return False if the character is not found\n",
        "\n",
        "input_string = input(\"Enter a string: \")\n",
        "target_char = input(\"Enter the character to search: \")\n",
        "\n",
        "if search_character(input_string, target_char):\n",
        "    print(f\"The character '{target_char}' is present in the string.\")\n",
        "else:\n",
        "    print(f\"The character '{target_char}' is not present in the string.\")\n"
      ],
      "metadata": {
        "colab": {
          "base_uri": "https://localhost:8080/"
        },
        "id": "TF02_gykUgDb",
        "outputId": "ee094098-b5f6-4196-9f66-435e2ae0c130"
      },
      "execution_count": null,
      "outputs": [
        {
          "output_type": "stream",
          "name": "stdout",
          "text": [
            "Enter a string: san\n",
            "Enter the character to search: d\n",
            "The character 'd' is not present in the string.\n"
          ]
        }
      ]
    },
    {
      "cell_type": "code",
      "source": [
        "#9. Write a Python program to find the first occurrence of a vowel in a string using a for loop and break statement.\n",
        "\n",
        "def find_first_vowel(my_string):\n",
        "  vowels = \"aeiouAEIOU\"\n",
        "  for char in my_string:\n",
        "    if char in vowels:\n",
        "      return char  # Return the first vowel\n",
        "  return None # Return None if no vowel is found\n",
        "\n",
        "input_string = input(\"Enter a string: \")\n",
        "\n",
        "result = find_first_vowel(input_string)\n",
        "\n",
        "if result is not None:\n",
        "    print(f\"The first vowel in the string is: {result}\")\n",
        "else:\n",
        "    print(\"No vowel found in the string.\")"
      ],
      "metadata": {
        "colab": {
          "base_uri": "https://localhost:8080/"
        },
        "id": "HTnvtMHmUwGl",
        "outputId": "46e04390-5942-49b5-93f8-197d4ced05db"
      },
      "execution_count": null,
      "outputs": [
        {
          "output_type": "stream",
          "name": "stdout",
          "text": [
            "Enter a string: rtd\n",
            "No vowel found in the string.\n"
          ]
        }
      ]
    },
    {
      "cell_type": "code",
      "source": [
        "#10. Write a Python program to find the index of the first occurrence of a substring in a string using a while loop and break statement.\n",
        "\n",
        "def find_substring_index(my_string, substring):\n",
        "  index = 0\n",
        "  while index < len(my_string):\n",
        "    if my_string[index:index + len(substring)] == substring:\n",
        "      return index # Return the index of the first occurrence\n",
        "    index += 1\n",
        "  return -1 # Return -1 if the substring is not found\n",
        "\n",
        "input_string = input(\"Enter a string: \")\n",
        "target_substring = input(\"Enter the substring to search: \")\n",
        "\n",
        "result = find_substring_index(input_string, target_substring)\n",
        "\n",
        "if result != -1:\n",
        "    print(f\"The index of the first occurrence of '{target_substring}' is: {result}\")\n",
        "else:\n",
        "    print(f\"'{target_substring}' is not present in the string.\")"
      ],
      "metadata": {
        "colab": {
          "base_uri": "https://localhost:8080/"
        },
        "id": "F4AyTK2dW1QA",
        "outputId": "64ec1191-893e-4bab-b8ee-9ac2990dcdd2"
      },
      "execution_count": null,
      "outputs": [
        {
          "output_type": "stream",
          "name": "stdout",
          "text": [
            "Enter a string: sand\n",
            "Enter the substring to search: d\n",
            "The index of the first occurrence of 'd' is: 3\n"
          ]
        }
      ]
    },
    {
      "cell_type": "markdown",
      "source": [
        "#Continue Statement Exercises:"
      ],
      "metadata": {
        "id": "kPqKditAX5T1"
      }
    },
    {
      "cell_type": "code",
      "source": [
        "#1. Write a Python program to print all the even numbers between 1 and 20 except for the number 10 using a for loop and continue statement.\n",
        "\n",
        "for number in range(1,21):\n",
        "  if number == 10:\n",
        "    continue #Skip no.10\n",
        "  if number % 2 ==0:\n",
        "    print(number,end=' ')"
      ],
      "metadata": {
        "id": "L5fz0-ZWX515",
        "colab": {
          "base_uri": "https://localhost:8080/"
        },
        "outputId": "efd30871-8366-4d9d-8090-27d04ee1da27"
      },
      "execution_count": 2,
      "outputs": [
        {
          "output_type": "stream",
          "name": "stdout",
          "text": [
            "2 4 6 8 12 14 16 18 20 "
          ]
        }
      ]
    },
    {
      "cell_type": "code",
      "source": [
        "#2. Write a Python program to print the elements of a list skipping the negative numbers using a while loop and continue statement.\n",
        "\n",
        "list1 = [3, -2, 7, -1, 5, -9, 2, 8, -20, 103]\n",
        "\n",
        "index = 0\n",
        "while index < len(list1):\n",
        "  if list1[index] < 0:\n",
        "    index += 1\n",
        "    continue #Skip negative num\n",
        "  print(list1[index], end=' ')\n",
        "  index += 1"
      ],
      "metadata": {
        "colab": {
          "base_uri": "https://localhost:8080/"
        },
        "id": "EqGypq_LzhAJ",
        "outputId": "562e69d2-82e2-4537-8477-daecdd616ff1"
      },
      "execution_count": 3,
      "outputs": [
        {
          "output_type": "stream",
          "name": "stdout",
          "text": [
            "3 7 5 2 8 103 "
          ]
        }
      ]
    },
    {
      "cell_type": "code",
      "source": [
        "#3. Write a Python program to print the first 10 multiples of 3 except for the number 9 using a for loop and continue statement.\n",
        "\n",
        "for num in range(1,31):\n",
        "  if num % 3 != 0 or num ==9:\n",
        "    continue #Skip numbers that are not multiples of 3 or are equal to 9\n",
        "  print(num, end=' ')"
      ],
      "metadata": {
        "colab": {
          "base_uri": "https://localhost:8080/"
        },
        "id": "SbOst46m0JN7",
        "outputId": "ae82ff5a-f39d-4e37-a9f9-a03b8263eb3c"
      },
      "execution_count": 4,
      "outputs": [
        {
          "output_type": "stream",
          "name": "stdout",
          "text": [
            "3 6 12 15 18 21 24 27 30 "
          ]
        }
      ]
    },
    {
      "cell_type": "code",
      "source": [
        "#4. Write a Python program to iterate over a string and print only the consonants using a for loop and continue statement.\n",
        "\n",
        "str1 = input(\"Enter a string:\")\n",
        "\n",
        "for char in str1:\n",
        "  if char.lower() in 'aeiou':\n",
        "    continue #Skip vowels\n",
        "  print(char,end=' ')"
      ],
      "metadata": {
        "colab": {
          "base_uri": "https://localhost:8080/"
        },
        "id": "UOKWYdBP0wLN",
        "outputId": "3a8e7beb-2feb-49fc-f232-0e4388b5a3ee"
      },
      "execution_count": 6,
      "outputs": [
        {
          "output_type": "stream",
          "name": "stdout",
          "text": [
            "Enter a string:sandeep\n",
            "s n d p "
          ]
        }
      ]
    },
    {
      "cell_type": "code",
      "source": [
        "#5. Write a Python program to print the elements of a list skipping the even numbers using a for loop and continue statement.\n",
        "\n",
        "list2 = [1,2,3,4,5,6,7,8,9,10]\n",
        "\n",
        "for i in list2:\n",
        "  if i % 2 == 0:\n",
        "    continue #Skip even numbers\n",
        "  print(i, end=' ')"
      ],
      "metadata": {
        "colab": {
          "base_uri": "https://localhost:8080/"
        },
        "id": "U2JvUdPe1Nue",
        "outputId": "bebf40f3-7a79-43aa-8573-f278a6f61b96"
      },
      "execution_count": 7,
      "outputs": [
        {
          "output_type": "stream",
          "name": "stdout",
          "text": [
            "1 3 5 7 9 "
          ]
        }
      ]
    },
    {
      "cell_type": "code",
      "source": [
        "#5. Write a Python program to print the elements of a list skipping the even numbers using a while loop and continue statement.\n",
        "\n",
        "list2 = [1,2,3,4,5,6,7,8,9,10]\n",
        "\n",
        "index = 0\n",
        "\n",
        "while index < len(list2):\n",
        "  if list2[index] % 2 == 0:\n",
        "    index += 1\n",
        "    continue #Skip even numbers\n",
        "\n",
        "  print(list2[index], end=\" \")\n",
        "  index += 1"
      ],
      "metadata": {
        "colab": {
          "base_uri": "https://localhost:8080/"
        },
        "id": "6l2HKnsW1njg",
        "outputId": "7399fdb2-1fd0-4c48-c396-086226e30dab"
      },
      "execution_count": 8,
      "outputs": [
        {
          "output_type": "stream",
          "name": "stdout",
          "text": [
            "1 3 5 7 9 "
          ]
        }
      ]
    },
    {
      "cell_type": "code",
      "source": [
        "#6. Write a Python program to find the sum of all numbers between 1 and 100, excluding the multiples of 5 using a for loop and continue statement.\n",
        "\n",
        "sum = 0\n",
        "\n",
        "for num in range(1,101):\n",
        "  if num % 5 == 0:\n",
        "    continue\n",
        "  sum += num\n",
        "\n",
        "print(f\"The sum of all numbers between 1 and 100 (excluding multiples of 5) is:{sum}\")"
      ],
      "metadata": {
        "colab": {
          "base_uri": "https://localhost:8080/"
        },
        "id": "h8WqZspC2HsI",
        "outputId": "47100bd8-9d96-47e3-dbd1-fdec844c6f23"
      },
      "execution_count": 13,
      "outputs": [
        {
          "output_type": "stream",
          "name": "stdout",
          "text": [
            "The sum of all numbers between 1 and 100 (excluding multiples of 5) is:4000\n"
          ]
        }
      ]
    },
    {
      "cell_type": "code",
      "source": [
        "#7. Write a Python program to print the uppercase letters in a string using a while loop and continue statement.\n",
        "\n",
        "str2 = input(\"Enter a string :\")\n",
        "\n",
        "index = 0\n",
        "\n",
        "while index < len(str2):\n",
        "  current_char = str2[index]\n",
        "  if not current_char.isupper():\n",
        "    index += 1\n",
        "    continue #Skip non-uppercase letters\n",
        "  print(current_char, end=\" \")\n",
        "  index += 1"
      ],
      "metadata": {
        "colab": {
          "base_uri": "https://localhost:8080/"
        },
        "id": "MkIaQ8T32mVD",
        "outputId": "a1cf7805-0e04-4ca7-e08f-0064bb329884"
      },
      "execution_count": 14,
      "outputs": [
        {
          "output_type": "stream",
          "name": "stdout",
          "text": [
            "Enter a string :SanDeeP\n",
            "S D P "
          ]
        }
      ]
    },
    {
      "cell_type": "code",
      "source": [
        "#8. Write a Python program to print the elements of a list skipping the elements divisible by 3 using a for loop and continue statement.\n",
        "\n",
        "list3 = [1,3,4,6,7,8,9,21,15,22]\n",
        "\n",
        "for i in list3:\n",
        "  if i % 3 == 0:\n",
        "    continue #Skip numbers divisible by 3\n",
        "  print(i, end=' ')"
      ],
      "metadata": {
        "colab": {
          "base_uri": "https://localhost:8080/"
        },
        "id": "KghIONKX3WVc",
        "outputId": "a45c49b3-1e07-4cc0-d09a-e9e889f7701b"
      },
      "execution_count": 16,
      "outputs": [
        {
          "output_type": "stream",
          "name": "stdout",
          "text": [
            "1 4 7 8 22 "
          ]
        }
      ]
    },
    {
      "cell_type": "code",
      "source": [
        "#9. Write a Python program to iterate over a list of tuples and print only the tuples with a specific condition using a while loop and continue statement.\n",
        "\n",
        "lt = [(1, 2), (3, 4), (5, 6), (7, 8), (9, 10)]\n",
        "\n",
        "\n",
        "condition_value = int(input(\"Enter the condition value: \"))\n",
        "\n",
        "index = 0\n",
        "\n",
        "while index < len(lt):\n",
        "  current_tuple = lt[index]\n",
        "  if current_tuple[1] <= condition_value:\n",
        "    index += 1\n",
        "    continue #Skip tuples that don't meet the condition\n",
        "  print(current_tuple)\n",
        "  index +=1"
      ],
      "metadata": {
        "colab": {
          "base_uri": "https://localhost:8080/"
        },
        "id": "fKmbKCJ13zs_",
        "outputId": "303b0f0f-b7d7-46b5-ff2f-3a2cb9698c74"
      },
      "execution_count": 27,
      "outputs": [
        {
          "output_type": "stream",
          "name": "stdout",
          "text": [
            "Enter the condition value: 5\n",
            "(5, 6)\n",
            "(7, 8)\n",
            "(9, 10)\n"
          ]
        }
      ]
    },
    {
      "cell_type": "code",
      "source": [
        "#10. Write a Python program to print the numbers from 1 to 50, skipping the multiples of 7 using a for loop and continue statement.\n",
        "\n",
        "for i in range(1,51):\n",
        "  if i % 7 == 0:\n",
        "    continue # Skip numbers which are multiples of 7\n",
        "  print(i,end=' ')"
      ],
      "metadata": {
        "colab": {
          "base_uri": "https://localhost:8080/"
        },
        "id": "7Iwaa7eZ6fGM",
        "outputId": "3f7a39f2-3d17-4096-e8f4-d490f13b0098"
      },
      "execution_count": 26,
      "outputs": [
        {
          "output_type": "stream",
          "name": "stdout",
          "text": [
            "1 2 3 4 5 6 8 9 10 11 12 13 15 16 17 18 19 20 22 23 24 25 26 27 29 30 31 32 33 34 36 37 38 39 40 41 43 44 45 46 47 48 50 "
          ]
        }
      ]
    },
    {
      "cell_type": "markdown",
      "source": [
        "## END OF THE EXERCISE"
      ],
      "metadata": {
        "id": "04AvXBaB9HaI"
      }
    }
  ]
}