{
  "nbformat": 4,
  "nbformat_minor": 0,
  "metadata": {
    "colab": {
      "provenance": [],
      "toc_visible": true
    },
    "kernelspec": {
      "name": "python3",
      "display_name": "Python 3"
    },
    "language_info": {
      "name": "python"
    }
  },
  "cells": [
    {
      "cell_type": "markdown",
      "source": [
        "#Lets Start Programming"
      ],
      "metadata": {
        "id": "do1Y5K3ScNOh"
      }
    },
    {
      "cell_type": "markdown",
      "source": [
        "## Hello World"
      ],
      "metadata": {
        "id": "p3X3hnqJb6jp"
      }
    },
    {
      "cell_type": "code",
      "execution_count": null,
      "metadata": {
        "colab": {
          "base_uri": "https://localhost:8080/"
        },
        "id": "Ojz6Q53wbwVz",
        "outputId": "760b4c48-c9aa-40b9-fd43-86ad4a48a1bb"
      },
      "outputs": [
        {
          "output_type": "stream",
          "name": "stdout",
          "text": [
            "Hello World\n"
          ]
        }
      ],
      "source": [
        "print(\"Hello World\")"
      ]
    },
    {
      "cell_type": "markdown",
      "source": [
        "## Add two numbers"
      ],
      "metadata": {
        "id": "rt8zv9eKcIS9"
      }
    },
    {
      "cell_type": "code",
      "source": [
        "a = 5\n",
        "b = 6.5\n",
        "sum = a + b\n",
        "print (f\"sum of {a} + {b} = {sum}\")"
      ],
      "metadata": {
        "colab": {
          "base_uri": "https://localhost:8080/"
        },
        "id": "h7dMK62ncYg_",
        "outputId": "b5395ea3-e74c-4a3c-90a6-bb2f439024c8"
      },
      "execution_count": null,
      "outputs": [
        {
          "output_type": "stream",
          "name": "stdout",
          "text": [
            "sum of 5 + 6.5 = 11.5\n"
          ]
        }
      ]
    },
    {
      "cell_type": "code",
      "source": [
        "a = input('Enter 1st number:')\n",
        "b = input('Enter 2nd number:')\n",
        "sum = float(a) + float(b)\n",
        "print (f\"sum of {a} + {b} = {sum}\")"
      ],
      "metadata": {
        "colab": {
          "base_uri": "https://localhost:8080/"
        },
        "id": "OzW8wy_Kb6RO",
        "outputId": "6c581655-6621-4ac1-b0e8-245a90d02546"
      },
      "execution_count": null,
      "outputs": [
        {
          "output_type": "stream",
          "name": "stdout",
          "text": [
            "Enter 1st number:5\n",
            "Enter 2nd number:6.5\n",
            "sum of 5 + 6.5 = 11.5\n"
          ]
        }
      ]
    },
    {
      "cell_type": "markdown",
      "source": [
        "## Find Square root"
      ],
      "metadata": {
        "id": "ICd_uOW7dBtn"
      }
    },
    {
      "cell_type": "code",
      "source": [
        "a = 6.5\n",
        "sqrt = 6.5 ** 0.5 # ** is used for exponentiation\n",
        "print(\"Square root of\", a , \"is :\" , sqrt)"
      ],
      "metadata": {
        "colab": {
          "base_uri": "https://localhost:8080/"
        },
        "id": "yYU2TYfKc6lr",
        "outputId": "efd14873-7bab-4d46-e9b4-05ea718029fb"
      },
      "execution_count": null,
      "outputs": [
        {
          "output_type": "stream",
          "name": "stdout",
          "text": [
            "Square root of 6.5 is : 2.5495097567963922\n"
          ]
        }
      ]
    },
    {
      "cell_type": "markdown",
      "source": [
        "## Find Square root of real or complex number"
      ],
      "metadata": {
        "id": "osaqYDk1dm4J"
      }
    },
    {
      "cell_type": "code",
      "source": [
        "import cmath #Import complex math module\n",
        "a = 64-64j\n",
        "sqrt = cmath.sqrt(a)\n",
        "print(\"Square root of\", a , \"is :\" , sqrt)\n"
      ],
      "metadata": {
        "colab": {
          "base_uri": "https://localhost:8080/"
        },
        "id": "lf__ctOndgBK",
        "outputId": "f9ba71ec-cc9b-44dd-cb83-3664340be518"
      },
      "execution_count": null,
      "outputs": [
        {
          "output_type": "stream",
          "name": "stdout",
          "text": [
            "Square root of (64-64j) is : (8.78947290774248-3.6407188844978187j)\n"
          ]
        }
      ]
    },
    {
      "cell_type": "markdown",
      "source": [
        "## Find area of triangle"
      ],
      "metadata": {
        "id": "KMctfNe0eAqz"
      }
    },
    {
      "cell_type": "code",
      "source": [
        "a = 3\n",
        "b = 4\n",
        "c = 5\n",
        "\n",
        "s = (a+b+c)/2 #semi-parameter\n",
        "area = (s*(s-a)*(s-b)*(s-c))**0.5 #area\n",
        "\n",
        "\n",
        "print(f\"The area of Triangle is, while having first side = {a},second side = {b} and third side = {c} is :\" , area)"
      ],
      "metadata": {
        "colab": {
          "base_uri": "https://localhost:8080/"
        },
        "id": "uffZ3DkFd3ER",
        "outputId": "c43b644b-e9fa-47d3-f7cd-fe5dbf8889bf"
      },
      "execution_count": null,
      "outputs": [
        {
          "output_type": "stream",
          "name": "stdout",
          "text": [
            "The area of Triangle is, while having first side = 3,second side = 4 and third side = 5 is : 6.0\n"
          ]
        }
      ]
    },
    {
      "cell_type": "markdown",
      "source": [
        "## Swap 2 variables"
      ],
      "metadata": {
        "id": "XH_Jq_NMfJ97"
      }
    },
    {
      "cell_type": "code",
      "source": [
        "x = 5\n",
        "y = 10\n",
        "\n",
        "temp = x #Take 3rd variable to store value of x\n",
        "x = y #put x in y\n",
        "y = temp #put y in temp\n",
        "\n",
        "print(\"after swapping:\")\n",
        "print(\"x =\", x)\n",
        "print(\"y =\", y)"
      ],
      "metadata": {
        "colab": {
          "base_uri": "https://localhost:8080/"
        },
        "id": "5-hk0lW_eYx3",
        "outputId": "83c667e9-955d-425c-beae-1c408a04ffcb"
      },
      "execution_count": null,
      "outputs": [
        {
          "output_type": "stream",
          "name": "stdout",
          "text": [
            "after swapping:\n",
            "x = 10\n",
            "y = 5\n"
          ]
        }
      ]
    },
    {
      "cell_type": "code",
      "source": [
        "x = 5\n",
        "y = 10\n",
        "\n",
        "x,y = y,x\n",
        "\n",
        "print(\"after swapping:\")\n",
        "print(\"x =\", x)\n",
        "print(\"y =\", y)"
      ],
      "metadata": {
        "colab": {
          "base_uri": "https://localhost:8080/"
        },
        "id": "qfA190_Mfa9x",
        "outputId": "430aecae-4452-41ed-ad95-2d6692a79d58"
      },
      "execution_count": null,
      "outputs": [
        {
          "output_type": "stream",
          "name": "stdout",
          "text": [
            "after swapping:\n",
            "x = 10\n",
            "y = 5\n"
          ]
        }
      ]
    },
    {
      "cell_type": "markdown",
      "source": [
        "## Find roots of Quadratic Equation"
      ],
      "metadata": {
        "id": "svCV8FcXf43U"
      }
    },
    {
      "cell_type": "code",
      "source": [
        "# ax^2 + bx + c = 0  #Standard equation, where a cannot be 0\n",
        "\n",
        "import cmath #Import Complex Math module\n",
        "\n",
        "#Coeff. of quadratic equation\n",
        "a = 1\n",
        "b = 5\n",
        "c = 6\n",
        "\n",
        "#Calculate the discriminant\n",
        "\n",
        "d = (b**2) - (4*a*c)\n",
        "\n",
        "#Find two solutions\n",
        "\n",
        "root1 = (-b-cmath.sqrt(d))/(2*a)\n",
        "root2 = (-b+cmath.sqrt(d))/(2*a)\n",
        "\n",
        "print(\"The roots are:\", root1, root2)\n"
      ],
      "metadata": {
        "colab": {
          "base_uri": "https://localhost:8080/"
        },
        "id": "U2qWVMoCfsNN",
        "outputId": "c0da83b2-9f37-444a-9d46-1c49effcbd25"
      },
      "execution_count": null,
      "outputs": [
        {
          "output_type": "stream",
          "name": "stdout",
          "text": [
            "The roots are: (-3+0j) (-2+0j)\n"
          ]
        }
      ]
    },
    {
      "cell_type": "markdown",
      "source": [
        "## Covert Kilometers to Miles"
      ],
      "metadata": {
        "id": "pRWcA65jhJKJ"
      }
    },
    {
      "cell_type": "code",
      "source": [
        "# 1 kilometer = 0.621371 miles\n",
        "\n",
        "km = float(input(\"enter kilometers:\"))\n",
        "conv_fc = 0.621371 #Conversion factor\n",
        "\n",
        "miles = km * conv_fc\n",
        "\n",
        "print(\"%0.3f kilometers is equals to %0.3f miles\" %(km,miles))  #0.3f = print decimal points upto 3 places"
      ],
      "metadata": {
        "colab": {
          "base_uri": "https://localhost:8080/"
        },
        "id": "VicvysJthAxn",
        "outputId": "80112db4-f32f-4762-82f0-ae24e9efad32"
      },
      "execution_count": null,
      "outputs": [
        {
          "output_type": "stream",
          "name": "stdout",
          "text": [
            "enter kilometers:5.5\n",
            "5.500 kilometers is equals to 3.418 miles\n"
          ]
        }
      ]
    },
    {
      "cell_type": "markdown",
      "source": [
        "## Covert Miles to Kilometers"
      ],
      "metadata": {
        "id": "G5ek2NsMjJMl"
      }
    },
    {
      "cell_type": "code",
      "source": [
        "# 1 miles = 1.609 kilometer\n",
        "\n",
        "miles = float(input(\"enter miles:\"))\n",
        "conv_fc = 0.621371 #Conversion factor\n",
        "\n",
        "km = miles / conv_fc\n",
        "\n",
        "print(\"%0.3f miles is equals to %0.3f kilometers\" %(miles,km))  #0.3f = print decimal points upto 3 places"
      ],
      "metadata": {
        "colab": {
          "base_uri": "https://localhost:8080/"
        },
        "id": "PyhY3lu8h2dW",
        "outputId": "250f1618-c5b1-41be-ab67-dd35c0814aff"
      },
      "execution_count": null,
      "outputs": [
        {
          "output_type": "stream",
          "name": "stdout",
          "text": [
            "enter miles:5\n",
            "5.000 miles is equals to 8.047 kilometers\n"
          ]
        }
      ]
    },
    {
      "cell_type": "markdown",
      "source": [
        "## Convert Celsius to Fahrenheit"
      ],
      "metadata": {
        "id": "B60EcOdsjTMB"
      }
    },
    {
      "cell_type": "code",
      "source": [
        "# Celsius * 1.8 = fahrenheit - 32\n",
        "# (Celsius * 1.8) + 32 = fahrenheit\n",
        "#0 deg = 32 f\n",
        "\n",
        "celsius = 37.5\n",
        "fahrenheit = (celsius * 1.8) + 32\n",
        "\n",
        "print(\"%0.1f degree celsius is equals to %0.1f degree fahrenheit\" %(celsius,fahrenheit))\n",
        "#0.1f = print decimal point upto 1 place"
      ],
      "metadata": {
        "colab": {
          "base_uri": "https://localhost:8080/"
        },
        "id": "fTSA_-zLiYp3",
        "outputId": "627f2108-d184-42d5-870c-8f423085f96c"
      },
      "execution_count": null,
      "outputs": [
        {
          "output_type": "stream",
          "name": "stdout",
          "text": [
            "37.5 degree celsius is equals to 99.5 degree fahrenheit\n"
          ]
        }
      ]
    },
    {
      "cell_type": "markdown",
      "source": [
        "##Convert Fahrenheit to Celsius"
      ],
      "metadata": {
        "id": "JtjVU1Hpl2_a"
      }
    },
    {
      "cell_type": "code",
      "source": [
        "# Celsius * 1.8 = fahrenheit - 32\n",
        "# Celsius = (fahrenheit - 32) / 1.8\n",
        "# 32 f = 0 deg\n",
        "\n",
        "fahrenheit = 10\n",
        "celsius = (fahrenheit - 32) / 1.8\n",
        "\n",
        "print(\"%0.1f degree fahrenheit is equals to %0.1f degree celcius \" %(fahrenheit,celsius))\n",
        "#0.1f = print decimal point upto 1 place"
      ],
      "metadata": {
        "colab": {
          "base_uri": "https://localhost:8080/"
        },
        "id": "49zw8685kEP1",
        "outputId": "174febfc-95bd-4900-bf0d-b50b89c27328"
      },
      "execution_count": null,
      "outputs": [
        {
          "output_type": "stream",
          "name": "stdout",
          "text": [
            "10.0 degree fahrenheit is equals to -12.2 degree celcius \n"
          ]
        }
      ]
    },
    {
      "cell_type": "markdown",
      "source": [
        "## Check if Number is Positive, Negative or Zero"
      ],
      "metadata": {
        "id": "EdYL9sO0mJ1l"
      }
    },
    {
      "cell_type": "code",
      "source": [
        "num = float (input(\"Enter a Number :\"))\n",
        "\n",
        "if num > 0:\n",
        "  print(num ,\"is a Positive Number\")\n",
        "elif num < 0:\n",
        "  print(num ,\"is a Negative Number\")\n",
        "else:\n",
        "  print(\"Entered number is Zero\")"
      ],
      "metadata": {
        "colab": {
          "base_uri": "https://localhost:8080/"
        },
        "id": "GztnEmDxkyeO",
        "outputId": "7cc45123-3450-4042-893f-7bc34e268eb2"
      },
      "execution_count": null,
      "outputs": [
        {
          "output_type": "stream",
          "name": "stdout",
          "text": [
            "Enter a Number :0\n",
            "Entered number is Zero\n"
          ]
        }
      ]
    },
    {
      "cell_type": "code",
      "source": [
        "#Using nested if statement\n",
        "num = float (input(\"Enter a Number :\"))\n",
        "\n",
        "if num >= 0:\n",
        "  if num == 0:\n",
        "    print(\"Zero Entered\")\n",
        "  else:\n",
        "    print(num ,\"is Positive Number\")\n",
        "else:\n",
        "  print(num ,\"is a Negative Number\")"
      ],
      "metadata": {
        "colab": {
          "base_uri": "https://localhost:8080/"
        },
        "id": "0-rDMGDhmsU2",
        "outputId": "a81c62b2-8846-4f45-c09f-7ce6c0a07103"
      },
      "execution_count": null,
      "outputs": [
        {
          "output_type": "stream",
          "name": "stdout",
          "text": [
            "Enter a Number :0\n",
            "Zero Entered\n"
          ]
        }
      ]
    },
    {
      "cell_type": "markdown",
      "source": [
        "## Check for Even and Odd number"
      ],
      "metadata": {
        "id": "jM85HYdGngmh"
      }
    },
    {
      "cell_type": "code",
      "source": [
        "# even = divisible by 2 (reminder = 0)\n",
        "# odd = not divisible by 2 (reminder =1)\n",
        "\n",
        "num = int(input(\"Enter a number:\"))\n",
        "\n",
        "if (num % 2) == 0:\n",
        "  print(f\"{num} is an Even number\")\n",
        "else:\n",
        "  print(f\"{num} is a Odd number\")"
      ],
      "metadata": {
        "colab": {
          "base_uri": "https://localhost:8080/"
        },
        "id": "b7n09ibAnLaA",
        "outputId": "ece8f422-197a-48b0-c574-209765e4f879"
      },
      "execution_count": null,
      "outputs": [
        {
          "output_type": "stream",
          "name": "stdout",
          "text": [
            "Enter a number:45\n",
            "45 is a Odd number\n"
          ]
        }
      ]
    },
    {
      "cell_type": "markdown",
      "source": [
        "## Print Even and Odd numbers in given number range"
      ],
      "metadata": {
        "id": "DoZG9voSo_Hf"
      }
    },
    {
      "cell_type": "code",
      "source": [
        "for i in range(1,21):\n",
        "\n",
        "  if (i % 2) == 0:\n",
        "    print(f\"{i} is an Even number\")\n",
        "  else:\n",
        "    print(f\"{i} is a Odd number\")"
      ],
      "metadata": {
        "colab": {
          "base_uri": "https://localhost:8080/"
        },
        "id": "sq8SVkhcn7g2",
        "outputId": "872ed6a7-460e-4b98-b0ad-b98dd7dec743"
      },
      "execution_count": null,
      "outputs": [
        {
          "output_type": "stream",
          "name": "stdout",
          "text": [
            "1 is a Odd number\n",
            "2 is an Even number\n",
            "3 is a Odd number\n",
            "4 is an Even number\n",
            "5 is a Odd number\n",
            "6 is an Even number\n",
            "7 is a Odd number\n",
            "8 is an Even number\n",
            "9 is a Odd number\n",
            "10 is an Even number\n",
            "11 is a Odd number\n",
            "12 is an Even number\n",
            "13 is a Odd number\n",
            "14 is an Even number\n",
            "15 is a Odd number\n",
            "16 is an Even number\n",
            "17 is a Odd number\n",
            "18 is an Even number\n",
            "19 is a Odd number\n",
            "20 is an Even number\n"
          ]
        }
      ]
    },
    {
      "cell_type": "markdown",
      "source": [
        "## Check if year is Leap or Not"
      ],
      "metadata": {
        "id": "rBXnIctWuNnW"
      }
    },
    {
      "cell_type": "code",
      "source": [
        "# Leap Year = A year which is exactly divisible by 4 (except century years (ends with 00))\n",
        "# Century years should be perfectly divisible by 400.\n",
        "\n",
        "year = int(input(\"Enter a year:\"))\n",
        "\n",
        "if (year % 4) == 0: #if block of 4\n",
        "  if (year % 100) == 0: #if block of 100\n",
        "    if (year % 400) == 0:\n",
        "      print(f\"{year} is a Leap year\") #if block of 400\n",
        "    else:\n",
        "      print(f\"{year} is not a Leap year\") #else block of 400\n",
        "  else:\n",
        "    print(f\"{year} is a Leap year\") #else block of 100\n",
        "else:\n",
        "  print(f\"{year} is not a Leap year\") #if block of 4\n",
        "\n",
        "#explaination :\n",
        "# 1. Not div by 4 = not a leap year (enters else block of 4)\n",
        "# 2. Div by 4 but not by 100 = leap year (enters else block of 100)\n",
        "# 3. Div by 4 & 100 but not by 400 = not a leap year (enters else block of 400)\n",
        "# 4. Div by 4 & 100 and 400 = not a leap year (enters if block of 400)"
      ],
      "metadata": {
        "colab": {
          "base_uri": "https://localhost:8080/"
        },
        "id": "Hx7a9M9PohYY",
        "outputId": "5d4ce9f9-7a22-45fe-9019-4c887fb5c959"
      },
      "execution_count": null,
      "outputs": [
        {
          "output_type": "stream",
          "name": "stdout",
          "text": [
            "Enter a year:2012\n",
            "2012 is a Leap year\n"
          ]
        }
      ]
    },
    {
      "cell_type": "markdown",
      "source": [
        "## Find largest number among 3 numbers"
      ],
      "metadata": {
        "id": "7eEXOXXiw6bc"
      }
    },
    {
      "cell_type": "code",
      "source": [
        "num1 = float(input(\"Enter 1st Number:\"))\n",
        "num2 = float(input(\"Enter 2nd Number:\"))\n",
        "num3 = float(input(\"Enter 3rd Number:\"))\n",
        "\n",
        "if (num1 >= num2) and (num1>= num3):\n",
        "  largest = num1\n",
        "elif (num2>= num3) and (num2>=num1):\n",
        "  largest = num2\n",
        "else:\n",
        "  largest = num3\n",
        "\n",
        "print(f\"Largest number between {num1},{num2},{num3} is {largest}\")"
      ],
      "metadata": {
        "colab": {
          "base_uri": "https://localhost:8080/"
        },
        "id": "OapXR23yvuLu",
        "outputId": "eccb295a-9e60-4c74-81c5-9d7883e3e0a3"
      },
      "execution_count": null,
      "outputs": [
        {
          "output_type": "stream",
          "name": "stdout",
          "text": [
            "Enter 1st Number:1\n",
            "Enter 2nd Number:2\n",
            "Enter 3rd Number:2.1\n",
            "Largest number between 1.0,2.0,2.1 is 2.1\n"
          ]
        }
      ]
    },
    {
      "cell_type": "markdown",
      "source": [
        "## Prime Number check"
      ],
      "metadata": {
        "id": "j1JBCms5x0mG"
      }
    },
    {
      "cell_type": "code",
      "source": [
        "# A positive number greater than 1 and has no other factors except 1 = Prime Number\n",
        "\n",
        "num = int(input(\"Enter a number:\"))\n",
        "\n",
        "if num>1: #Check for factors\n",
        "  for i in range(2,num):\n",
        "    if (num % i) == 0:\n",
        "      print(num, \"is not a prime number\")\n",
        "      print(i, \"times\", num//i, \"is\" , num)\n",
        "      break\n",
        "  else:\n",
        "    print(num, \"is a Prime number\")\n",
        "else:\n",
        "  print(num, \"is not a prime number\") #if input num is less than or equals to 1 then its not a prime number"
      ],
      "metadata": {
        "colab": {
          "base_uri": "https://localhost:8080/"
        },
        "id": "XXzJeI3txgAA",
        "outputId": "a1b8793f-62d0-4e81-b52e-5cd76a850fb8"
      },
      "execution_count": null,
      "outputs": [
        {
          "output_type": "stream",
          "name": "stdout",
          "text": [
            "Enter a number:3\n",
            "3 is a Prime number\n"
          ]
        }
      ]
    },
    {
      "cell_type": "markdown",
      "source": [
        "## All Prime numbers in given range"
      ],
      "metadata": {
        "id": "nsw0OO8q0ooq"
      }
    },
    {
      "cell_type": "code",
      "source": [
        "for num in range(1,100):\n",
        "  if num>1:\n",
        "    for i in range(2,num):\n",
        "      if (num % i) == 0:\n",
        "        break\n",
        "    else:\n",
        "      print( num , end=' ')"
      ],
      "metadata": {
        "colab": {
          "base_uri": "https://localhost:8080/"
        },
        "id": "-lIoWtGEzW2R",
        "outputId": "134dbf41-8d19-4e83-bc6e-ab51b2e1eaf9"
      },
      "execution_count": null,
      "outputs": [
        {
          "output_type": "stream",
          "name": "stdout",
          "text": [
            "2 3 5 7 11 13 17 19 23 29 31 37 41 43 47 53 59 61 67 71 73 79 83 89 97 "
          ]
        }
      ]
    },
    {
      "cell_type": "markdown",
      "source": [
        "## Factorial of a number"
      ],
      "metadata": {
        "id": "mjaRE99y06Ge"
      }
    },
    {
      "cell_type": "code",
      "source": [
        "# Factorial of 6 = 1*2*3*4*5*6 = 720\n",
        "# (6!) = 720\n",
        "\n",
        "num = int(input(\"Enter a number to find factorial :\"))\n",
        "factorial = 1\n",
        "\n",
        "if num < 0:\n",
        "  print(\"can not find factorial for negative numbers\")\n",
        "elif num == 0:\n",
        "  print(\"The factorial of 0 is 1\")\n",
        "else:\n",
        "  for i in range(1, num+1):\n",
        "    factorial = factorial * i\n",
        "\n",
        "  print(f\"The factorial of {num} is \", factorial)"
      ],
      "metadata": {
        "colab": {
          "base_uri": "https://localhost:8080/"
        },
        "id": "GpflvtHx0Mdy",
        "outputId": "b699391e-dcac-4cf4-efc7-b0149798144a"
      },
      "execution_count": null,
      "outputs": [
        {
          "output_type": "stream",
          "name": "stdout",
          "text": [
            "Enter a number to find factorial :6\n",
            "The factorial of 6 is  720\n"
          ]
        }
      ]
    },
    {
      "cell_type": "markdown",
      "source": [
        "## Multiplication table display"
      ],
      "metadata": {
        "id": "yx5xnmZx2ij4"
      }
    },
    {
      "cell_type": "code",
      "source": [
        "num = int(input(\"Display the multiplication table of : \"))\n",
        "\n",
        "count = 1\n",
        "\n",
        "while count < 11:\n",
        "  print(num, 'X' ,count, '=', num*count)\n",
        "  count += 1"
      ],
      "metadata": {
        "colab": {
          "base_uri": "https://localhost:8080/"
        },
        "id": "JraSt_fe2QUJ",
        "outputId": "eeb4fdb7-04e2-428d-a816-8eb386c4157a"
      },
      "execution_count": null,
      "outputs": [
        {
          "output_type": "stream",
          "name": "stdout",
          "text": [
            "Display the multiplication table of : 2\n",
            "2 X 1 = 2\n",
            "2 X 2 = 4\n",
            "2 X 3 = 6\n",
            "2 X 4 = 8\n",
            "2 X 5 = 10\n",
            "2 X 6 = 12\n",
            "2 X 7 = 14\n",
            "2 X 8 = 16\n",
            "2 X 9 = 18\n",
            "2 X 10 = 20\n"
          ]
        }
      ]
    },
    {
      "cell_type": "markdown",
      "source": [
        "## Fibonacci Sequence"
      ],
      "metadata": {
        "id": "ePC3XdCw3fAl"
      }
    },
    {
      "cell_type": "code",
      "source": [
        "# A Fibonacci sequence is the integer sequence of 0,1,1,2,3,5,8...\n",
        "# First two terms are 0 & 1 then addition of two preceding numbers... 1+1=2 2+3=5 3+5=8\n",
        "\n",
        "nterms = int(input(\"How many terms :\"))\n",
        "\n",
        "#First two terms\n",
        "n1 = 0\n",
        "n2 = 1\n",
        "count = 0\n",
        "\n",
        "if nterms <= 0:\n",
        "  print(\"Enter a positive number:\")\n",
        "elif nterms == 1:\n",
        "  print(\"Fibonacci sequence upto\", nterms, \":\")\n",
        "  print(n1)\n",
        "else:\n",
        "  print(\"Fibonacci sequence upto\", nterms, \":\")\n",
        "  while count < nterms:\n",
        "    print(n1,end='')\n",
        "    nth = n1 + n2\n",
        "\n",
        "    n1 = n2\n",
        "    n2 = nth\n",
        "\n",
        "    count += 1\n",
        "\n",
        "print()\n",
        "\n",
        "#Explaination :\n",
        "\n",
        "#count(5) -- 0..1..2..3..4\n",
        "#print(n1) -- 0..1..1..2..3 Final Output\n",
        "#nth=n1+n2 -- 1..2..3..5..8\n",
        "#n1=n2 -- 1..1..2..3..5\n",
        "#n2=nth -- 1..2..3..5..8"
      ],
      "metadata": {
        "colab": {
          "base_uri": "https://localhost:8080/"
        },
        "id": "DAeJHVhx3B7r",
        "outputId": "6416271f-e5c2-4268-d506-a911f489e9fe"
      },
      "execution_count": null,
      "outputs": [
        {
          "output_type": "stream",
          "name": "stdout",
          "text": [
            "How many terms :5\n",
            "Fibonacci sequence upto 5 :\n",
            "01123\n"
          ]
        }
      ]
    },
    {
      "cell_type": "markdown",
      "source": [
        "## Find Armstrong number in sequence"
      ],
      "metadata": {
        "id": "cKiYP0u2_6da"
      }
    },
    {
      "cell_type": "code",
      "source": [
        "# 153 = 1*1*1 + 5*5*5 + 3*3*3 (n=3)\n",
        "\n",
        "lower = 100\n",
        "upper = 2000\n",
        "\n",
        "for num in range(lower, upper + 1):\n",
        "  order = len(str(num)) #order of number\n",
        "  sum = 0\n",
        "  temp = num #find the sum of cube of each digit\n",
        "\n",
        "  while temp > 0:\n",
        "    digit = temp % 10\n",
        "    sum += digit ** order\n",
        "    temp //= 10\n",
        "\n",
        "  if num == sum:\n",
        "    print(num)\n",
        "\n",
        "#Explaination:\n",
        "# temp = 153 .. 15 .. 1\n",
        "# digit = 3 .. 5.. 1\n",
        "# sum+= digit**order .. 0+3*3=27, 27+5**3=152, 152+1**3=153\n",
        "#num==sum then 153 is printed"
      ],
      "metadata": {
        "id": "uUo6maaT5BGR",
        "colab": {
          "base_uri": "https://localhost:8080/"
        },
        "outputId": "a4212812-8b41-4719-9bd7-7652308f9172"
      },
      "execution_count": null,
      "outputs": [
        {
          "output_type": "stream",
          "name": "stdout",
          "text": [
            "153\n",
            "370\n",
            "371\n",
            "407\n",
            "1634\n"
          ]
        }
      ]
    },
    {
      "cell_type": "markdown",
      "source": [
        "## Sum of Natural numbers"
      ],
      "metadata": {
        "id": "5oPdoux-Bs84"
      }
    },
    {
      "cell_type": "code",
      "source": [
        "# sum = n*(n+1) / 2\n",
        "\n",
        "num = int(input(\"Enter a number:\")) # 5 = 5+4+3+2+1 = 15\n",
        "\n",
        "if num < 0:\n",
        "  print(\"Enter a Positive number...\")\n",
        "else:\n",
        "  sum=0\n",
        "\n",
        "  while num > 0: #Adding each number manually\n",
        "    sum += num\n",
        "    num -= 1\n",
        "\n",
        "  print(\"The sum is:\", sum)"
      ],
      "metadata": {
        "colab": {
          "base_uri": "https://localhost:8080/"
        },
        "id": "A_gibJXIA3L1",
        "outputId": "2e512050-4ccf-4373-826b-b616ddad5647"
      },
      "execution_count": null,
      "outputs": [
        {
          "output_type": "stream",
          "name": "stdout",
          "text": [
            "Enter a number:5\n",
            "The sum is: 15\n"
          ]
        }
      ]
    },
    {
      "cell_type": "code",
      "source": [
        "num = int(input(\"Enter a number:\")) # 5 = 5+4+3+2+1 = 15\n",
        "\n",
        "if num < 0:\n",
        "  print(\"Enter a Positive number...\")\n",
        "else:\n",
        "  sum = num*(num+1) / 2 #Using sum formula\n",
        "  print(\"The sum is:\", sum)"
      ],
      "metadata": {
        "colab": {
          "base_uri": "https://localhost:8080/"
        },
        "id": "7_JiwzvYCLcW",
        "outputId": "d77a08a8-d377-45e7-d9a2-12daf5058baa"
      },
      "execution_count": null,
      "outputs": [
        {
          "output_type": "stream",
          "name": "stdout",
          "text": [
            "Enter a number:5\n",
            "The sum is: 15.0\n"
          ]
        }
      ]
    },
    {
      "cell_type": "markdown",
      "source": [
        "## Display power of 2 using Anonymous function"
      ],
      "metadata": {
        "id": "8fypRio6Cwin"
      }
    },
    {
      "cell_type": "code",
      "source": [
        "terms = int(input(\"How many terms \"))\n",
        "\n",
        "result = list(map(lambda x: 2**x, range(terms)))\n",
        "\n",
        "print(\"The total term is:\", terms)\n",
        "\n",
        "for i in range(terms):\n",
        "  print(\"2 raised to power\", i ,\"is\", result[i])"
      ],
      "metadata": {
        "colab": {
          "base_uri": "https://localhost:8080/"
        },
        "id": "8BgKXDerCsSk",
        "outputId": "101eca5a-e39e-42c0-f910-c2cf42d9ce44"
      },
      "execution_count": null,
      "outputs": [
        {
          "output_type": "stream",
          "name": "stdout",
          "text": [
            "How many terms 10\n",
            "The total term is: 10\n",
            "2 raised to power 0 is 1\n",
            "2 raised to power 1 is 2\n",
            "2 raised to power 2 is 4\n",
            "2 raised to power 3 is 8\n",
            "2 raised to power 4 is 16\n",
            "2 raised to power 5 is 32\n",
            "2 raised to power 6 is 64\n",
            "2 raised to power 7 is 128\n",
            "2 raised to power 8 is 256\n",
            "2 raised to power 9 is 512\n"
          ]
        }
      ]
    },
    {
      "cell_type": "markdown",
      "source": [
        "## Find Numbers Divisible by another number"
      ],
      "metadata": {
        "id": "RUM0qIDxEDoC"
      }
    },
    {
      "cell_type": "code",
      "source": [
        "my_list = [12,65,54,39,102,333,221]\n",
        "num = 13\n",
        "\n",
        "result = list(filter(lambda x: (x % num == 0), my_list))\n",
        "#Filter () used to filter out those numbers in the list that are divisible by num\n",
        "\n",
        "print(\"Numbers divisible by\", num , \"are\", result)"
      ],
      "metadata": {
        "colab": {
          "base_uri": "https://localhost:8080/"
        },
        "id": "XwDgVrRmDkwc",
        "outputId": "e1cc0221-405e-4e5f-c43f-a3652ba366bd"
      },
      "execution_count": null,
      "outputs": [
        {
          "output_type": "stream",
          "name": "stdout",
          "text": [
            "Numbers divisible by 13 are [65, 39, 221]\n"
          ]
        }
      ]
    },
    {
      "cell_type": "markdown",
      "source": [
        "## Convert Decimal to Binary , Octal to Hexadecimal"
      ],
      "metadata": {
        "id": "_RtYrQSYE0ae"
      }
    },
    {
      "cell_type": "code",
      "source": [
        "from tokenize import Hexnumber\n",
        "# 60 = 0b11100 = 0o74 = 0x3c\n",
        "\n",
        "dec = 60\n",
        "\n",
        "print(\"The decimal value of\", dec, \"is:\")\n",
        "print(bin(dec),\"in binary\")\n",
        "print(oct(dec),\"in octal\")\n",
        "print(hex(dec),\"in hexa\")\n"
      ],
      "metadata": {
        "colab": {
          "base_uri": "https://localhost:8080/"
        },
        "id": "K-D-2AOpEdqn",
        "outputId": "6257462b-63ae-4825-930e-e221a222591d"
      },
      "execution_count": null,
      "outputs": [
        {
          "output_type": "stream",
          "name": "stdout",
          "text": [
            "The decimal value of 60 is:\n",
            "0b111100 in binary\n",
            "0o74 in octal\n",
            "0x3c in hexa\n"
          ]
        }
      ]
    },
    {
      "cell_type": "markdown",
      "source": [
        "## Find ASCII value of Character"
      ],
      "metadata": {
        "id": "ld8VZLYhF8Z7"
      }
    },
    {
      "cell_type": "code",
      "source": [
        "# ASCII of A = 65\n",
        "\n",
        "char = 'A'\n",
        "\n",
        "print(\"The ASCII value of ' \" + char + \" ' is\" , ord(char))"
      ],
      "metadata": {
        "colab": {
          "base_uri": "https://localhost:8080/"
        },
        "id": "oGRXhCm_Fu0U",
        "outputId": "1b84e8cf-c733-4ea5-8acc-c42a22320cd1"
      },
      "execution_count": null,
      "outputs": [
        {
          "output_type": "stream",
          "name": "stdout",
          "text": [
            "The ASCII value of ' A ' is 65\n"
          ]
        }
      ]
    },
    {
      "cell_type": "markdown",
      "source": [
        "## Find HCF or GCD"
      ],
      "metadata": {
        "id": "CsCvwpFcGv7B"
      }
    },
    {
      "cell_type": "code",
      "source": [
        "# HCF = Highest Common Fator\n",
        "# GCD = Greatest Common Divisor\n",
        "\n",
        "# its a number which perfectly divides given two numbers.\n",
        "# HCF of 12 & 14 is 2.\n",
        "\n",
        "def hcf(x,y):\n",
        "  if x > y:\n",
        "    smaller = y\n",
        "  else:\n",
        "    smaller = x\n",
        "  for i in range(1,smaller+1):\n",
        "    if ((x % i == 0) and (y % i == 0)):\n",
        "      hcf = i\n",
        "  return hcf\n",
        "\n",
        "num1 = 12\n",
        "num2 = 14\n",
        "\n",
        "print(\"The HCF of\", num1, \"and\", num2, \"is:\", hcf(num1,num2))"
      ],
      "metadata": {
        "id": "v8c39fkxGMB_",
        "colab": {
          "base_uri": "https://localhost:8080/"
        },
        "outputId": "14ee006a-1475-493b-b422-9b6f4c2b1ea5"
      },
      "execution_count": null,
      "outputs": [
        {
          "output_type": "stream",
          "name": "stdout",
          "text": [
            "The HCF of 12 and 14 is: 2\n"
          ]
        }
      ]
    },
    {
      "cell_type": "markdown",
      "source": [
        "## find LCM"
      ],
      "metadata": {
        "id": "Rh_drWYItrgB"
      }
    },
    {
      "cell_type": "code",
      "source": [
        "# The Least Common Multiple (LCM) of two numbers is the smallest no that is perfectly div by given two numbers.\n",
        "# LCM of 12 & 14 is 84.\n",
        "\n",
        "def lcm(x,y):\n",
        "  if x > y :\n",
        "    greater = x\n",
        "  else:\n",
        "    greater = y\n",
        "\n",
        "  while(True):\n",
        "    if ((greater % x == 0) and (greater % y == 0)):\n",
        "      lcm = greater\n",
        "      break\n",
        "    greater += 1\n",
        "  return lcm\n",
        "\n",
        "num1 = 12\n",
        "num2 = 14\n",
        "\n",
        "print(\"the LCM of\",num1,\"and\",num2,\"is:\", lcm(num1,num2))"
      ],
      "metadata": {
        "colab": {
          "base_uri": "https://localhost:8080/"
        },
        "id": "50LTI_O2tan1",
        "outputId": "0a655a0d-5de3-4376-920c-52d6bc6b526b"
      },
      "execution_count": null,
      "outputs": [
        {
          "output_type": "stream",
          "name": "stdout",
          "text": [
            "the LCM of 12 and 14 is: 84\n"
          ]
        }
      ]
    },
    {
      "cell_type": "markdown",
      "source": [
        "## Find Factors of Number"
      ],
      "metadata": {
        "id": "ZHj6AZ6-vtXc"
      }
    },
    {
      "cell_type": "code",
      "source": [
        "#Any number is a factor of a number, if its perfectly divisible.\n",
        "# factors of 6 = 1,2,3,6\n",
        "\n",
        "def fac(x):\n",
        "  print(\"Factors of\",x,\"are:\")\n",
        "\n",
        "  for i in range(1,x+1):\n",
        "    if x % i == 0:\n",
        "      print(i)\n",
        "\n",
        "num = int(input(\"Enter number to findout the factorial:\"))\n",
        "fac(num)"
      ],
      "metadata": {
        "colab": {
          "base_uri": "https://localhost:8080/"
        },
        "id": "fLlRHlK4vTCu",
        "outputId": "a087dbfc-5804-48c6-a52c-d3bd427c696e"
      },
      "execution_count": null,
      "outputs": [
        {
          "output_type": "stream",
          "name": "stdout",
          "text": [
            "Enter number to findout the factorial:6\n",
            "Factors of 6 are:\n",
            "1\n",
            "2\n",
            "3\n",
            "6\n"
          ]
        }
      ]
    },
    {
      "cell_type": "markdown",
      "source": [
        "## Simple Calculator"
      ],
      "metadata": {
        "id": "Tr6vkot6wwlL"
      }
    },
    {
      "cell_type": "code",
      "source": [
        "def add(x,y):\n",
        "  return x+y\n",
        "\n",
        "def subtract(x,y):\n",
        "  return x-y\n",
        "\n",
        "def multiply(x,y):\n",
        "  return x*y\n",
        "\n",
        "def divide(x,y):\n",
        "  return x/y\n",
        "\n",
        "print(\"Select operation:\")\n",
        "print(\"1. Add\")\n",
        "print(\"2. Subtract\")\n",
        "print(\"3. Multiplication\")\n",
        "print(\"4. Division\")\n",
        "\n",
        "choice = input(\"Enter your choice :\")\n",
        "num1 = int(input(\"Enter first number :\"))\n",
        "num2 = int(input(\"Enter second number :\"))\n",
        "\n",
        "if choice == '1':\n",
        "  print(num1, \"+\",num2, \"=\", add(num1,num2))\n",
        "elif choice == '2':\n",
        "  print(num1, \"-\",num2, \"=\", subtract(num1,num2))\n",
        "elif choice == '3':\n",
        "  print(num1, \"*\",num2, \"=\", multiply(num1,num2))\n",
        "elif choice == '4':\n",
        "  print(num1, \"/\",num2, \"=\", divide(num1,num2))\n",
        "else:\n",
        "  print(\"Invalid Choice\")"
      ],
      "metadata": {
        "colab": {
          "base_uri": "https://localhost:8080/"
        },
        "id": "YnItAtU2wZ-A",
        "outputId": "4be5f2ad-a0d4-41c6-c446-ee615dada383"
      },
      "execution_count": null,
      "outputs": [
        {
          "output_type": "stream",
          "name": "stdout",
          "text": [
            "Select operation:\n",
            "1. Add\n",
            "2. Subtract\n",
            "3. Multiplication\n",
            "4. Division\n",
            "Enter your choice :1\n",
            "Enter first number :2\n",
            "Enter second number :3\n",
            "2 + 3 = 5\n"
          ]
        }
      ]
    },
    {
      "cell_type": "markdown",
      "source": [
        "## Shuffle Deck of Cards"
      ],
      "metadata": {
        "id": "vIcQhJBHX2bq"
      }
    },
    {
      "cell_type": "code",
      "source": [
        "# 1 to 13 (Spades,Hearts,Diamonds,Clubs)\n",
        "import itertools, random\n",
        "deck = list(itertools.product(range(1,14),['Spade','Hearts','Diamond','Club']))\n",
        "\n",
        "random.shuffle(deck)\n",
        "\n",
        "print(\"You got:\")\n",
        "for i in range(5):\n",
        "  print(deck[i][0], \"of\", deck[i][1])"
      ],
      "metadata": {
        "id": "2CDAOpZ40AOG",
        "colab": {
          "base_uri": "https://localhost:8080/"
        },
        "outputId": "36107f3a-bc44-49ea-e57f-0749c2a2de38"
      },
      "execution_count": null,
      "outputs": [
        {
          "output_type": "stream",
          "name": "stdout",
          "text": [
            "You got:\n",
            "3 of Hearts\n",
            "2 of Diamond\n",
            "1 of Club\n",
            "6 of Diamond\n",
            "8 of Club\n"
          ]
        }
      ]
    },
    {
      "cell_type": "markdown",
      "source": [
        "## Display Calendar"
      ],
      "metadata": {
        "id": "b122NukEtbdH"
      }
    },
    {
      "cell_type": "code",
      "source": [
        "import calendar\n",
        "\n",
        "year = int(input(\"Enter a Year:\"))\n",
        "month = int(input(\"Enter a month:\"))\n",
        "\n",
        "print(calendar.month(year,month))"
      ],
      "metadata": {
        "colab": {
          "base_uri": "https://localhost:8080/"
        },
        "id": "8FBJNs8CsPpi",
        "outputId": "ada7bbcd-0a6a-4714-fb14-5c1f8ec49a14"
      },
      "execution_count": null,
      "outputs": [
        {
          "output_type": "stream",
          "name": "stdout",
          "text": [
            "Enter a Year:2014\n",
            "Enter a month:11\n",
            "   November 2014\n",
            "Mo Tu We Th Fr Sa Su\n",
            "                1  2\n",
            " 3  4  5  6  7  8  9\n",
            "10 11 12 13 14 15 16\n",
            "17 18 19 20 21 22 23\n",
            "24 25 26 27 28 29 30\n",
            "\n"
          ]
        }
      ]
    },
    {
      "cell_type": "markdown",
      "source": [
        "## Add two Matrix\n"
      ],
      "metadata": {
        "id": "eJKx8-53uQNx"
      }
    },
    {
      "cell_type": "code",
      "source": [
        "x = [[12,7,3],[4,5,6],[7,8,9]]\n",
        "y = [[5,8,1],[6,7,3],[4,5,9]]\n",
        "result = [[0,0,0],[0,0,0],[0,0,0]]\n",
        "\n",
        "#Iterate through rows\n",
        "for i in range(len(x)):\n",
        "  #iterate through columns\n",
        "  for j in range(len(x[0])):\n",
        "    result[i][j] = x[i][j] + y[i][j]\n",
        "\n",
        "for r in result:\n",
        "  print(r)\n",
        "\n",
        "print(len(x))\n",
        "print(len(x[0]))\n",
        "\n",
        "#EXplaination =\n",
        "\n",
        "# i     j     result[i][j] = x[i][j] + y[i][j]\n",
        "# 0     0     12+5 = 17\n",
        "# 0     1     7+8 = 15\n",
        "# 0     2     3+1 = 4\n",
        "# 1     0     4+6 = 10\n",
        "# 1     1     5+7 = 12\n",
        "# 1     2     6+3 = 9\n",
        "# 2     0     7+4 = 11\n",
        "# 2     1     8+5 = 12\n",
        "# 2     2     9+9 = 18\n",
        "\n",
        "\n",
        "\n",
        "\n",
        "\n"
      ],
      "metadata": {
        "colab": {
          "base_uri": "https://localhost:8080/"
        },
        "id": "4ddoZfydtsIp",
        "outputId": "bb3b032b-5c02-4992-b704-246455833f52"
      },
      "execution_count": null,
      "outputs": [
        {
          "output_type": "stream",
          "name": "stdout",
          "text": [
            "[17, 15, 4]\n",
            "[10, 12, 9]\n",
            "[11, 13, 18]\n",
            "3\n",
            "3\n"
          ]
        }
      ]
    },
    {
      "cell_type": "markdown",
      "source": [
        "## Transpose a Matrix"
      ],
      "metadata": {
        "id": "CDdB8fD6wnvh"
      }
    },
    {
      "cell_type": "code",
      "source": [
        "# Iterchanging of row & columns\n",
        "# if matrix is 3x2 then after transposing it will be 2x3\n",
        "\n",
        "x = [[12,7],\n",
        "     [4,5],\n",
        "     [3,8]]\n",
        "\n",
        "result = [[0,0,0],\n",
        "          [0,0,0]]\n",
        "\n",
        "#Iterate through rows\n",
        "for i in range(len(x)):\n",
        "  for j in range(len(x[0])): #iterate through columns\n",
        "    result[j][i] = x[i][j]\n",
        "for r in result:\n",
        "  print(r)\n",
        "\n",
        "print(len(x))\n",
        "print(len(x[0]))\n",
        "\n",
        "#EXplaination\n",
        "\n",
        "# i = 0 , 0 , 1 , 1 , 2 , 2\n",
        "# j = 0 , 1 , 0 , 1 , 0 , 1\n",
        "# r = 12 , 7 , 4 , 5 , 3 , 8"
      ],
      "metadata": {
        "colab": {
          "base_uri": "https://localhost:8080/"
        },
        "id": "spSRsT4au7lf",
        "outputId": "f6251d29-d7b9-4c75-999f-225fdb5a53c2"
      },
      "execution_count": null,
      "outputs": [
        {
          "output_type": "stream",
          "name": "stdout",
          "text": [
            "[12, 4, 3]\n",
            "[7, 5, 8]\n",
            "3\n",
            "2\n"
          ]
        }
      ]
    },
    {
      "cell_type": "markdown",
      "source": [
        "## Check if given String is a palindrome or not\n"
      ],
      "metadata": {
        "id": "p0EBqpplyigP"
      }
    },
    {
      "cell_type": "code",
      "source": [
        "def pal(str1):\n",
        "  str1 = str1.casefold()\n",
        "  rev_str1 = str1[::-1]\n",
        "  if str1 == rev_str1:\n",
        "    return \"Palindrome\"\n",
        "  else:\n",
        "    return \"Not a Palindrome\"\n",
        "\n",
        "str2 = \"niTiN\"\n",
        "result = pal(str2)\n",
        "print(f\"{str2} is :\",result)"
      ],
      "metadata": {
        "colab": {
          "base_uri": "https://localhost:8080/"
        },
        "id": "PmiHyzgSxUzQ",
        "outputId": "6ba88555-3c00-4e35-b030-a0290414fc26"
      },
      "execution_count": null,
      "outputs": [
        {
          "output_type": "stream",
          "name": "stdout",
          "text": [
            "niTiN is : Palindrome\n"
          ]
        }
      ]
    },
    {
      "cell_type": "markdown",
      "source": [
        "## remove Punctuations / special characters from a String"
      ],
      "metadata": {
        "id": "6LxvZNoM1aK2"
      }
    },
    {
      "cell_type": "code",
      "source": [
        "from string import punctuation\n",
        "\n",
        "my_str = \"Hey!! he said ---and went,\"\n",
        "\n",
        "for char in my_str:\n",
        "  if char not in punctuation:\n",
        "    print(char,end='')"
      ],
      "metadata": {
        "colab": {
          "base_uri": "https://localhost:8080/"
        },
        "id": "GTfNdUqmy8a4",
        "outputId": "196af847-cfb1-4ebd-d295-fb3589719c3d"
      },
      "execution_count": null,
      "outputs": [
        {
          "output_type": "stream",
          "name": "stdout",
          "text": [
            "Hey he said and went"
          ]
        }
      ]
    },
    {
      "cell_type": "markdown",
      "source": [
        "## Sort words in Alphabetical Order"
      ],
      "metadata": {
        "id": "GUwOhKGk2n_m"
      }
    },
    {
      "cell_type": "code",
      "source": [
        "str2 = \"Hello this Is an Example with Cased Letters\"\n",
        "\n",
        "words = str2.split()\n",
        "words.sort() #sort the list\n",
        "\n",
        "print(\"The sorted words are:\")\n",
        "for i in words:\n",
        "  print(i,end=' ') #First calpital words are sorted and then lower case words are sorted Alphabetically."
      ],
      "metadata": {
        "colab": {
          "base_uri": "https://localhost:8080/"
        },
        "id": "S1VpPIbY10HL",
        "outputId": "33334dbe-7bb4-4c64-acb5-7f5cb6c7362f"
      },
      "execution_count": null,
      "outputs": [
        {
          "output_type": "stream",
          "name": "stdout",
          "text": [
            "The sorted words are:\n",
            "Cased Example Hello Is Letters an this with "
          ]
        }
      ]
    },
    {
      "cell_type": "markdown",
      "source": [
        "## Different Set Operations"
      ],
      "metadata": {
        "id": "LoUdQ8-u3w2a"
      }
    },
    {
      "cell_type": "code",
      "source": [
        "E = {0,2,4,6,8}\n",
        "N = {1,2,3,4,5}\n",
        "\n",
        "print(\"Union of E and N is :\", E|N)\n",
        "print(\"Intersection of E and N is:\", E&N)\n",
        "print(\"Difference of E and N is:\", E-N)\n",
        "print(\"Symmetric Difference of E and N is:\", E^N)"
      ],
      "metadata": {
        "colab": {
          "base_uri": "https://localhost:8080/"
        },
        "id": "miN9uIkg3wfL",
        "outputId": "20c7a3af-a792-434d-f138-26d5bdd4331e"
      },
      "execution_count": null,
      "outputs": [
        {
          "output_type": "stream",
          "name": "stdout",
          "text": [
            "Union of E and N is : {0, 1, 2, 3, 4, 5, 6, 8}\n",
            "Intersection of E and N is: {2, 4}\n",
            "Difference of E and N is: {0, 8, 6}\n",
            "Symmetric Difference of E and N is: {0, 1, 3, 5, 6, 8}\n"
          ]
        }
      ]
    },
    {
      "cell_type": "markdown",
      "source": [
        "## Count the number of each Vowel"
      ],
      "metadata": {
        "id": "XR_Rz89b5rtI"
      }
    },
    {
      "cell_type": "code",
      "source": [
        "vowels = 'aeiou'\n",
        "#vowels = vowels.lower()\n",
        "\n",
        "str2 = \"Hello, How Are You iBuddy\"\n",
        "str2 = str2.casefold()\n",
        "\n",
        "count = {}.fromkeys(vowels,0) #Key:vowels and Value=0\n",
        "\n",
        "for char in str2:\n",
        "  if char in count:\n",
        "    count[char] += 1\n",
        "print(count)"
      ],
      "metadata": {
        "colab": {
          "base_uri": "https://localhost:8080/"
        },
        "id": "6MOufM-O3C4X",
        "outputId": "2fda748e-931a-44ab-8424-627b245eaf24"
      },
      "execution_count": null,
      "outputs": [
        {
          "output_type": "stream",
          "name": "stdout",
          "text": [
            "{'a': 1, 'e': 2, 'i': 1, 'o': 3, 'u': 2}\n"
          ]
        }
      ]
    },
    {
      "cell_type": "markdown",
      "source": [
        "## Anagram String checking"
      ],
      "metadata": {
        "id": "4qkx7LyV5HzO"
      }
    },
    {
      "cell_type": "code",
      "source": [
        "#IF characters of both strings are equal , then its Anagram String.\n",
        "# listen = silent (same characters present)\n",
        "\n",
        "def ana(str1,str2):\n",
        "  str1 = str1.replace(\" \",\"\").lower()\n",
        "  str2 = str2.replace(\" \",\"\").lower()\n",
        "  return sorted(str1) == sorted(str2)\n",
        "\n",
        "s1 = \"No\"\n",
        "s2 = \"On\"\n",
        "result = ana(s1,s2)\n",
        "print(result)\n",
        "\n",
        "if result:\n",
        "  print(f\"{s1} and {s2} are Anagram strings\")\n",
        "else:\n",
        "  print(f\"{s1} and {s2} are not Anagram strings\")"
      ],
      "metadata": {
        "id": "3ShABbdW6Pt2",
        "colab": {
          "base_uri": "https://localhost:8080/"
        },
        "outputId": "a2cc6da7-188b-4809-cb9a-bece5d8e9fca"
      },
      "execution_count": null,
      "outputs": [
        {
          "output_type": "stream",
          "name": "stdout",
          "text": [
            "True\n",
            "No and On are Anagram strings\n"
          ]
        }
      ]
    },
    {
      "cell_type": "code",
      "source": [],
      "metadata": {
        "id": "cVGOfPXM5jvm"
      },
      "execution_count": null,
      "outputs": []
    }
  ]
}